{
 "cells": [
  {
   "cell_type": "markdown",
   "metadata": {
    "id": "rOyOkJJA7Foy"
   },
   "source": [
    "# Machine Learning in Python - Project 1\n",
    "\n",
    "Due Friday, March 11th by 5 pm.\n",
    "\n",
    "Contributors:\n",
    "* Xiangtian Duan (s2248742)\n",
    "* Jihong(Candice) Ma (s2242121)\n",
    "* Yanren Mao (s2207399)\n",
    "* Qingrui Mu (s2189295)\n"
   ]
  },
  {
   "cell_type": "markdown",
   "metadata": {
    "id": "PqPpPRE37Fo0"
   },
   "source": [
    "## 0. Setup"
   ]
  },
  {
   "cell_type": "code",
   "execution_count": 3,
   "metadata": {
    "colab": {
     "base_uri": "https://localhost:8080/"
    },
    "id": "NXZNwOb6mYZw",
    "outputId": "00c7a72a-2ea9-47fd-a77d-2b7595efb6a7"
   },
   "outputs": [],
   "source": [
    "# # Load data\n",
    "# import os\n",
    "# from google.colab import drive\n",
    "\n",
    "# drive.mount('/content/drive')\n",
    "# os.chdir('drive/My Drive/Colab Notebooks/mlp/project-1')\n",
    "# !ls"
   ]
  },
  {
   "cell_type": "code",
   "execution_count": 2,
   "metadata": {
    "id": "jb4qh-pi7Fo1"
   },
   "outputs": [],
   "source": [
    "# Add any additional libraries or submodules below\n",
    "\n",
    "# Data libraries\n",
    "import pandas as pd\n",
    "import numpy as np\n",
    "\n",
    "# Plotting libraries\n",
    "import matplotlib.pyplot as plt\n",
    "import seaborn as sns\n",
    "\n",
    "# Plotting defaults\n",
    "plt.rcParams['figure.figsize'] = (8,5)\n",
    "plt.rcParams['figure.dpi'] = 80\n",
    "\n",
    "# sklearn modules\n",
    "import sklearn\n",
    "# !pip install feature_engine"
   ]
  },
  {
   "cell_type": "code",
   "execution_count": 10,
   "metadata": {
    "id": "hjs5785u7Fo1"
   },
   "outputs": [],
   "source": [
    "# Load data\n",
    "d = pd.read_csv(\"the_office.csv\")"
   ]
  },
  {
   "cell_type": "markdown",
   "metadata": {
    "id": "K314dGEL7Fo1"
   },
   "source": [
    "## 1. Introduction\n",
    "\n",
    "#### Background\n",
    "This report uses data about the American TV show **The Office** and investigates on why some episodes are more popular. **The Office** (American TV show) is a sitcom and pseudo-documentary adaptation of the British television series of the same name. The series premiered on NBC on March 24, 2005, and ran until the end of its ninth season on May 16, 2013. **The Office** was ever the No. 1 streamed show on Netflix in the United States and was one of the best rated programs on NBC. As a high-rated TV show, the reunion of **The Office** was anticipated by all audience. For the purpose of advsing on the creation of a special reunion episode of it to obtain a high rating, we study how some factors influence the audience ratings in this project. According to the impact weighting (quantified as coefficents of the fitted model), we determine key factors related with high ratings and provides advices based on the model analysis.  \n",
    "#### Data\n",
    "The data we will use are derived from the data available in the [`schrutepy`](https://pypi.org/project/schrutepy/) package. The csv file `the_office.csv` contains data about the American TV show **The Office**, which provides the following columns:\n",
    "-   `season` - Season number of the episode\n",
    "\n",
    "-   `episode` - Episode number within a season\n",
    "\n",
    "-   `episode_name` - Episode name\n",
    "\n",
    "-   `director` - Episode director(s), names are separated by `;`\n",
    "\n",
    "-   `writer` - Episode writer(s), names are separated by `;`\n",
    "\n",
    "-   `imdb_rating` - Episode rating on IMDB\n",
    "\n",
    "-   `total_votes` - Number of ratings for episode on IMDB\n",
    "\n",
    "-   `air_date` - Original air date of episode\n",
    "\n",
    "-   `n_lines` - Number of spoken lines in episode\n",
    "\n",
    "-   `n_directions` - Number of lines containing a stage direction\n",
    "\n",
    "-   `n_words` - Number of dialog words in episide\n",
    "\n",
    "-   `n_speak_char` - Number of different characters with spoken lines in episode\n",
    "\n",
    "-   `main_chars` - Main characters appearing in episode (main characters were determined to be characters appearing in more than 1/2 of the episodes)  \n",
    "\n",
    "#### Task\n",
    "The task of the report is to build a reasonably valid predictive model which could illustrate the relationship between these features and episode rating, and then give advice to NBC Universal about the special reunion episode of the show based on the model created. We will regard episodes with rating below 6.0 as \"bad\", 6.0-8.0 as \"Not Bad\", episodes with rating 8.0-9.0 as “Good”, episodes with rating > 9.0 as “Excellent”.  \n",
    "\n",
    "#### Structure\n",
    "At first, we perform the exploratory data analysis on the dataset, exploring the changing trends of the audience rating and finding that **The Office** is a very popular TV show with a high average audience rating(8.25). Then we processed the data for numerical features and categorical features to prepare for the modelling. In the model fittig, we mainly explore two models: linear regression model and ridge regression model for predicting. After comparing their performance, we selected the ridge regression model as our predicting model and used it to find the key features for increasing the ratings.\n",
    "\n",
    "#### Approach\n",
    "In the abalysis, we mainly consider the root mean square error to measure the accuracy of the model fit. We also carry out model refinement(Tuning with GridSearchCV) for ridge regression model. "
   ]
  },
  {
   "cell_type": "markdown",
   "metadata": {
    "id": "3P6Vdzbo7Fo2"
   },
   "source": [
    "## 2. Exploratory Data Analysis and Feature Engineering"
   ]
  },
  {
   "cell_type": "markdown",
   "metadata": {
    "id": "zQBT1M46TtO8"
   },
   "source": [
    "### 2.1 Initial Look at the Data Structure\n",
    "\n",
    "\n",
    "\n",
    "\n"
   ]
  },
  {
   "cell_type": "markdown",
   "metadata": {},
   "source": [
    "For the purpose of advising on the creation of a special reunion of **The Office**, we need to explore into some important features which affect the audience ratings.\n",
    "Firstly, we display the data frame obtained to observe its shape, structure, and specifc information in it. Then we identify the types of different features for further analysis."
   ]
  },
  {
   "cell_type": "code",
   "execution_count": 12,
   "metadata": {
    "colab": {
     "base_uri": "https://localhost:8080/",
     "height": 392
    },
    "id": "OSLUE3ETnDEH",
    "outputId": "ee7248ee-4138-4592-8e48-aac5dc5c39cf"
   },
   "outputs": [
    {
     "data": {
      "text/html": [
       "<div>\n",
       "<style scoped>\n",
       "    .dataframe tbody tr th:only-of-type {\n",
       "        vertical-align: middle;\n",
       "    }\n",
       "\n",
       "    .dataframe tbody tr th {\n",
       "        vertical-align: top;\n",
       "    }\n",
       "\n",
       "    .dataframe thead th {\n",
       "        text-align: right;\n",
       "    }\n",
       "</style>\n",
       "<table border=\"1\" class=\"dataframe\">\n",
       "  <thead>\n",
       "    <tr style=\"text-align: right;\">\n",
       "      <th></th>\n",
       "      <th>season</th>\n",
       "      <th>episode</th>\n",
       "      <th>episode_name</th>\n",
       "      <th>director</th>\n",
       "      <th>writer</th>\n",
       "      <th>imdb_rating</th>\n",
       "      <th>total_votes</th>\n",
       "      <th>air_date</th>\n",
       "      <th>n_lines</th>\n",
       "      <th>n_directions</th>\n",
       "      <th>n_words</th>\n",
       "      <th>n_speak_char</th>\n",
       "      <th>main_chars</th>\n",
       "    </tr>\n",
       "  </thead>\n",
       "  <tbody>\n",
       "    <tr>\n",
       "      <th>0</th>\n",
       "      <td>1</td>\n",
       "      <td>1</td>\n",
       "      <td>Pilot</td>\n",
       "      <td>Ken Kwapis</td>\n",
       "      <td>Ricky Gervais;Stephen Merchant;Greg Daniels</td>\n",
       "      <td>7.6</td>\n",
       "      <td>3706</td>\n",
       "      <td>2005-03-24</td>\n",
       "      <td>229</td>\n",
       "      <td>27</td>\n",
       "      <td>2757</td>\n",
       "      <td>15</td>\n",
       "      <td>Angela;Dwight;Jim;Kevin;Michael;Oscar;Pam;Phyl...</td>\n",
       "    </tr>\n",
       "    <tr>\n",
       "      <th>1</th>\n",
       "      <td>1</td>\n",
       "      <td>2</td>\n",
       "      <td>Diversity Day</td>\n",
       "      <td>Ken Kwapis</td>\n",
       "      <td>B.J. Novak</td>\n",
       "      <td>8.3</td>\n",
       "      <td>3566</td>\n",
       "      <td>2005-03-29</td>\n",
       "      <td>203</td>\n",
       "      <td>20</td>\n",
       "      <td>2808</td>\n",
       "      <td>12</td>\n",
       "      <td>Angela;Dwight;Jim;Kelly;Kevin;Michael;Oscar;Pa...</td>\n",
       "    </tr>\n",
       "    <tr>\n",
       "      <th>2</th>\n",
       "      <td>1</td>\n",
       "      <td>3</td>\n",
       "      <td>Health Care</td>\n",
       "      <td>Ken Whittingham</td>\n",
       "      <td>Paul Lieberstein</td>\n",
       "      <td>7.9</td>\n",
       "      <td>2983</td>\n",
       "      <td>2005-04-05</td>\n",
       "      <td>244</td>\n",
       "      <td>21</td>\n",
       "      <td>2769</td>\n",
       "      <td>13</td>\n",
       "      <td>Angela;Dwight;Jim;Kevin;Meredith;Michael;Oscar...</td>\n",
       "    </tr>\n",
       "    <tr>\n",
       "      <th>3</th>\n",
       "      <td>1</td>\n",
       "      <td>4</td>\n",
       "      <td>The Alliance</td>\n",
       "      <td>Bryan Gordon</td>\n",
       "      <td>Michael Schur</td>\n",
       "      <td>8.1</td>\n",
       "      <td>2886</td>\n",
       "      <td>2005-04-12</td>\n",
       "      <td>243</td>\n",
       "      <td>24</td>\n",
       "      <td>2939</td>\n",
       "      <td>14</td>\n",
       "      <td>Angela;Dwight;Jim;Kevin;Meredith;Michael;Oscar...</td>\n",
       "    </tr>\n",
       "    <tr>\n",
       "      <th>4</th>\n",
       "      <td>1</td>\n",
       "      <td>5</td>\n",
       "      <td>Basketball</td>\n",
       "      <td>Greg Daniels</td>\n",
       "      <td>Greg Daniels</td>\n",
       "      <td>8.4</td>\n",
       "      <td>3179</td>\n",
       "      <td>2005-04-19</td>\n",
       "      <td>230</td>\n",
       "      <td>49</td>\n",
       "      <td>2437</td>\n",
       "      <td>18</td>\n",
       "      <td>Angela;Darryl;Dwight;Jim;Kevin;Michael;Oscar;P...</td>\n",
       "    </tr>\n",
       "  </tbody>\n",
       "</table>\n",
       "</div>"
      ],
      "text/plain": [
       "   season  episode   episode_name         director  \\\n",
       "0       1        1          Pilot       Ken Kwapis   \n",
       "1       1        2  Diversity Day       Ken Kwapis   \n",
       "2       1        3    Health Care  Ken Whittingham   \n",
       "3       1        4   The Alliance     Bryan Gordon   \n",
       "4       1        5     Basketball     Greg Daniels   \n",
       "\n",
       "                                        writer  imdb_rating  total_votes  \\\n",
       "0  Ricky Gervais;Stephen Merchant;Greg Daniels          7.6         3706   \n",
       "1                                   B.J. Novak          8.3         3566   \n",
       "2                             Paul Lieberstein          7.9         2983   \n",
       "3                                Michael Schur          8.1         2886   \n",
       "4                                 Greg Daniels          8.4         3179   \n",
       "\n",
       "     air_date  n_lines  n_directions  n_words  n_speak_char  \\\n",
       "0  2005-03-24      229            27     2757            15   \n",
       "1  2005-03-29      203            20     2808            12   \n",
       "2  2005-04-05      244            21     2769            13   \n",
       "3  2005-04-12      243            24     2939            14   \n",
       "4  2005-04-19      230            49     2437            18   \n",
       "\n",
       "                                          main_chars  \n",
       "0  Angela;Dwight;Jim;Kevin;Michael;Oscar;Pam;Phyl...  \n",
       "1  Angela;Dwight;Jim;Kelly;Kevin;Michael;Oscar;Pa...  \n",
       "2  Angela;Dwight;Jim;Kevin;Meredith;Michael;Oscar...  \n",
       "3  Angela;Dwight;Jim;Kevin;Meredith;Michael;Oscar...  \n",
       "4  Angela;Darryl;Dwight;Jim;Kevin;Michael;Oscar;P...  "
      ]
     },
     "execution_count": 12,
     "metadata": {},
     "output_type": "execute_result"
    }
   ],
   "source": [
    "#display the first 5 row of the data\n",
    "d.head()"
   ]
  },
  {
   "cell_type": "markdown",
   "metadata": {},
   "source": [
    "Analysing the results above, the object of our interest is `imdb_rating` column. And the dataset provides other 12 columns which we can use to construct the model for predicting audience ratings."
   ]
  },
  {
   "cell_type": "code",
   "execution_count": 13,
   "metadata": {
    "colab": {
     "base_uri": "https://localhost:8080/"
    },
    "id": "ps4O994cSoDL",
    "outputId": "c96810b0-7b4b-450c-9e59-c60beadc0685"
   },
   "outputs": [
    {
     "name": "stdout",
     "output_type": "stream",
     "text": [
      "<class 'pandas.core.frame.DataFrame'>\n",
      "RangeIndex: 186 entries, 0 to 185\n",
      "Data columns (total 13 columns):\n",
      " #   Column        Non-Null Count  Dtype  \n",
      "---  ------        --------------  -----  \n",
      " 0   season        186 non-null    int64  \n",
      " 1   episode       186 non-null    int64  \n",
      " 2   episode_name  186 non-null    object \n",
      " 3   director      186 non-null    object \n",
      " 4   writer        186 non-null    object \n",
      " 5   imdb_rating   186 non-null    float64\n",
      " 6   total_votes   186 non-null    int64  \n",
      " 7   air_date      186 non-null    object \n",
      " 8   n_lines       186 non-null    int64  \n",
      " 9   n_directions  186 non-null    int64  \n",
      " 10  n_words       186 non-null    int64  \n",
      " 11  n_speak_char  186 non-null    int64  \n",
      " 12  main_chars    186 non-null    object \n",
      "dtypes: float64(1), int64(7), object(5)\n",
      "memory usage: 19.0+ KB\n"
     ]
    }
   ],
   "source": [
    "#get more imformation about our dataset\n",
    "d.info()"
   ]
  },
  {
   "cell_type": "markdown",
   "metadata": {},
   "source": [
    "And we have 7 numerical features (season, episode, total votes, number of lines, number of directions, number of words, number of speaking characters) and 5 categorical features (episode name, director, writer, air date, main characters), which can play a role in explaining the audience rating.\n",
    "\n",
    "From 186 rows, we notice that all columns do not have any null values, so we do not need to process the null values here."
   ]
  },
  {
   "cell_type": "markdown",
   "metadata": {},
   "source": [
    "Based on the type of features, we select different data pre_processing methods for numerical and categorical features. \n",
    "\n",
    "Now we get the descriptive statistics for numeric columns to perform analysis."
   ]
  },
  {
   "cell_type": "code",
   "execution_count": 14,
   "metadata": {
    "colab": {
     "base_uri": "https://localhost:8080/",
     "height": 300
    },
    "id": "f9p2gr6vUW5p",
    "outputId": "dc62f43b-7673-4fe6-ea19-75e4b70577e7"
   },
   "outputs": [
    {
     "data": {
      "text/html": [
       "<div>\n",
       "<style scoped>\n",
       "    .dataframe tbody tr th:only-of-type {\n",
       "        vertical-align: middle;\n",
       "    }\n",
       "\n",
       "    .dataframe tbody tr th {\n",
       "        vertical-align: top;\n",
       "    }\n",
       "\n",
       "    .dataframe thead th {\n",
       "        text-align: right;\n",
       "    }\n",
       "</style>\n",
       "<table border=\"1\" class=\"dataframe\">\n",
       "  <thead>\n",
       "    <tr style=\"text-align: right;\">\n",
       "      <th></th>\n",
       "      <th>season</th>\n",
       "      <th>episode</th>\n",
       "      <th>imdb_rating</th>\n",
       "      <th>total_votes</th>\n",
       "      <th>n_lines</th>\n",
       "      <th>n_directions</th>\n",
       "      <th>n_words</th>\n",
       "      <th>n_speak_char</th>\n",
       "    </tr>\n",
       "  </thead>\n",
       "  <tbody>\n",
       "    <tr>\n",
       "      <th>count</th>\n",
       "      <td>186.00</td>\n",
       "      <td>186.00</td>\n",
       "      <td>186.00</td>\n",
       "      <td>186.00</td>\n",
       "      <td>186.00</td>\n",
       "      <td>186.00</td>\n",
       "      <td>186.00</td>\n",
       "      <td>186.00</td>\n",
       "    </tr>\n",
       "    <tr>\n",
       "      <th>mean</th>\n",
       "      <td>5.46</td>\n",
       "      <td>12.48</td>\n",
       "      <td>8.25</td>\n",
       "      <td>2129.54</td>\n",
       "      <td>296.40</td>\n",
       "      <td>50.15</td>\n",
       "      <td>3053.51</td>\n",
       "      <td>20.69</td>\n",
       "    </tr>\n",
       "    <tr>\n",
       "      <th>std</th>\n",
       "      <td>2.40</td>\n",
       "      <td>7.23</td>\n",
       "      <td>0.54</td>\n",
       "      <td>790.79</td>\n",
       "      <td>82.00</td>\n",
       "      <td>23.94</td>\n",
       "      <td>799.27</td>\n",
       "      <td>5.09</td>\n",
       "    </tr>\n",
       "    <tr>\n",
       "      <th>min</th>\n",
       "      <td>1.00</td>\n",
       "      <td>1.00</td>\n",
       "      <td>6.70</td>\n",
       "      <td>1393.00</td>\n",
       "      <td>131.00</td>\n",
       "      <td>11.00</td>\n",
       "      <td>1098.00</td>\n",
       "      <td>12.00</td>\n",
       "    </tr>\n",
       "    <tr>\n",
       "      <th>25%</th>\n",
       "      <td>3.00</td>\n",
       "      <td>6.00</td>\n",
       "      <td>7.90</td>\n",
       "      <td>1628.50</td>\n",
       "      <td>255.25</td>\n",
       "      <td>34.00</td>\n",
       "      <td>2670.25</td>\n",
       "      <td>17.00</td>\n",
       "    </tr>\n",
       "    <tr>\n",
       "      <th>50%</th>\n",
       "      <td>6.00</td>\n",
       "      <td>12.00</td>\n",
       "      <td>8.20</td>\n",
       "      <td>1954.00</td>\n",
       "      <td>281.00</td>\n",
       "      <td>46.00</td>\n",
       "      <td>2872.50</td>\n",
       "      <td>20.00</td>\n",
       "    </tr>\n",
       "    <tr>\n",
       "      <th>75%</th>\n",
       "      <td>7.75</td>\n",
       "      <td>18.00</td>\n",
       "      <td>8.60</td>\n",
       "      <td>2385.00</td>\n",
       "      <td>314.50</td>\n",
       "      <td>60.00</td>\n",
       "      <td>3141.00</td>\n",
       "      <td>23.00</td>\n",
       "    </tr>\n",
       "    <tr>\n",
       "      <th>max</th>\n",
       "      <td>9.00</td>\n",
       "      <td>28.00</td>\n",
       "      <td>9.70</td>\n",
       "      <td>7934.00</td>\n",
       "      <td>625.00</td>\n",
       "      <td>166.00</td>\n",
       "      <td>6076.00</td>\n",
       "      <td>54.00</td>\n",
       "    </tr>\n",
       "  </tbody>\n",
       "</table>\n",
       "</div>"
      ],
      "text/plain": [
       "       season  episode  imdb_rating  total_votes  n_lines  n_directions  \\\n",
       "count  186.00   186.00       186.00       186.00   186.00        186.00   \n",
       "mean     5.46    12.48         8.25      2129.54   296.40         50.15   \n",
       "std      2.40     7.23         0.54       790.79    82.00         23.94   \n",
       "min      1.00     1.00         6.70      1393.00   131.00         11.00   \n",
       "25%      3.00     6.00         7.90      1628.50   255.25         34.00   \n",
       "50%      6.00    12.00         8.20      1954.00   281.00         46.00   \n",
       "75%      7.75    18.00         8.60      2385.00   314.50         60.00   \n",
       "max      9.00    28.00         9.70      7934.00   625.00        166.00   \n",
       "\n",
       "       n_words  n_speak_char  \n",
       "count   186.00        186.00  \n",
       "mean   3053.51         20.69  \n",
       "std     799.27          5.09  \n",
       "min    1098.00         12.00  \n",
       "25%    2670.25         17.00  \n",
       "50%    2872.50         20.00  \n",
       "75%    3141.00         23.00  \n",
       "max    6076.00         54.00  "
      ]
     },
     "execution_count": 14,
     "metadata": {},
     "output_type": "execute_result"
    }
   ],
   "source": [
    "# Descriptive information about the numerical features.\n",
    "d.describe().round(2)"
   ]
  },
  {
   "cell_type": "markdown",
   "metadata": {},
   "source": [
    "Analysing the results we got:\n",
    "1. About the `imdb_rating`, the mean value is 8.25, showing that overall the audience has a high rating for **The Office**. The standard error of the `imdb_rating` is 0.54, which is small, showing that the performance of the episodes is relatively stable, with no particularly large fluctuations. The maximum rating is 9.70, close to a full mark, showing that some episodes have excellent performances. The minumum rating is 6.70, which is not too bad, showing the high qualities of the episodes.\n",
    "\n",
    "2. We observed that the mean number of lines is 296.40 and the mean number of words is 3053.51, which are higher than average numbers of other American TV shows, indicating that **The Office** is a sitcom that values the language of conversation. The mean values of` n_directions` is 50.15, which represents the average number of lines containing a stage direction, about 16.92% of the mean values of `n_lines`, the total number of lines. This ratio is at a medium level as a sitcom.\n",
    "\n",
    "3. As for the number of speaking characters, on average, each episode has about 20 speaking characters, which is relatively higher than that of other TV series.\n",
    "\n",
    "4. Considering the total votes, we can find that the mean votes is 2129.54, which is far from the maximum votes 7934.00, showing that there is a big difference in the number of votes about different episodes. However, the feature `total_votes` will not provide enough useful information for us when we advise on the creation of a special reunion of **The Office**, since the number of participants in voting cannot be artificially controlled. Thus we might not take it into account in the last advice.\n",
    "\n",
    "In conclusion, from the high average number of `n_lines`, `n_words`, `n_speak_char`, and the ratio of `n_direcrions` and `n_lines`, we can find that **The Office** is a typical sitcom showing an emphasis on language conversions. The high audience rating also tell us that it has been widely recognized and welcomed by the audience. "
   ]
  },
  {
   "cell_type": "markdown",
   "metadata": {},
   "source": [
    "After gaining a preliminary understanding of the features of **The Office** through initial data exploration, we now select the column of our interest, `imdb_rating`, for visualization analysis.\n",
    "\n",
    "We use the plots to show the relationships between `imdb_rating` and seasons, and between `imdb_rating` and episodes as following:"
   ]
  },
  {
   "cell_type": "code",
   "execution_count": 15,
   "metadata": {
    "colab": {
     "base_uri": "https://localhost:8080/",
     "height": 406
    },
    "id": "sHaDlXoIVE19",
    "outputId": "df443f7a-2eb2-4a92-f865-4215729744fc"
   },
   "outputs": [
    {
     "data": {
      "image/png": "[encoded data removed]",
      "text/plain": [
       "<Figure size 1200x400 with 2 Axes>"
      ]
     },
     "metadata": {},
     "output_type": "display_data"
    }
   ],
   "source": [
    "###### BY SEASONS % EPISODES#########\n",
    "# make a shallow copy of dataset.\n",
    "import copy\n",
    "df = copy.copy(d)\n",
    "\n",
    "# change the index.\n",
    "df.set_index(keys=['season'], drop=False, inplace=True)\n",
    "# check the how many seasons in total.\n",
    "num_season = df['season'].unique().tolist()\n",
    "# create a list such that the first element is the dataframe contains all details of season 1.\n",
    "df_by_season=[]\n",
    "for x in num_season:\n",
    "   df_by_season.append(df.loc[df.season==x])\n",
    "\n",
    "# list to store average rating for each season\n",
    "avg_rating_list = []\n",
    "\n",
    "def avg_rating (season):\n",
    "    return (df_by_season[season]['imdb_rating'].mean())\n",
    "\n",
    "for x in range(0,9):\n",
    "    avg_rating_list.append(avg_rating(x))\n",
    "    \n",
    "# print(avg_rating_list)\n",
    "fig, ax = plt.subplots(1,2,figsize=(15,5))\n",
    "season = df['season'].unique()\n",
    "plt.style.use(\"ggplot\")\n",
    "ax[0].plot(season, avg_rating_list, marker = \"8\", markersize=10)\n",
    "ax[0].set_ylim(7.5,8.7)\n",
    "ax[0].set_xlabel(\"Seasons of THE OFFICE\")\n",
    "ax[0].set_ylabel(\"Average IMDb rating\")\n",
    "ax[0].set_title(\"Average IMDb rating of 9 seasons of THE OFFICE \\n \")\n",
    "\n",
    "for x,y in zip(season,avg_rating_list):\n",
    "   \n",
    "    label = \"{:.2f}\".format(y)\n",
    "    ax[0].annotate(label, # this is the text\n",
    "             (x,y), # this is the point to label\n",
    "             textcoords=\"offset points\", # how to position the text\n",
    "             xytext=(0,10), # distance from text to points (x,y)\n",
    "             ha='center')\n",
    "\n",
    "ax[1].plot(range(df.shape[0]), df['imdb_rating'])\n",
    "ax[1].set_xlabel(\"Episodes of THE OFFICE\")\n",
    "ax[1].set_ylabel(\"Average IMDb rating\")\n",
    "ax[1].set_title(\"Average IMDb rating of each episode of THE OFFICE \\n \")\n",
    "plt.show()"
   ]
  },
  {
   "cell_type": "markdown",
   "metadata": {},
   "source": [
    "Analysis about the plots:\n",
    "\n",
    "1. From the first plot, we observed that from the first season to the forth season, the average audience rating gradually increased and peaked at the season 4. However, after season 4, the rating shows an overall downward trend, with occasional rebound in rating. In particular, the rating of the Season 8 slumped badly, hitting an all-time record low. Analysing the major changes in the eighth season, we infer that the reason for this might be the departure of the main actor Steve Carell. And after Steve Carell left, even though the rating of the final season rebounded slightly, the rating(7.96) was still far below the average rating(8.25) for the whole series.\n",
    "\n",
    "2. From the second plot, before the episode 140, most ratings of the episode are above the 7.5, while after the episode 140, most ratings od the episode are below 8.0. The low rating interval also exactly correspond the departure of Steve Carell, consistent with the first figure. As **The Office** came to an end, the rating of the episodes increased drastically and hitted a record high in the last episode.\n",
    "\n",
    "In general, most rating of **The Office** are above 8.0, showing it is a high-quality and popular TV shows, although its rating drop seriously as one of the main characters left. From this analysis, we can guess that the involvement of the actor Steve Carell play a significant role in audience rating performance."
   ]
  },
  {
   "cell_type": "markdown",
   "metadata": {
    "id": "nzriCT0pUB8N"
   },
   "source": [
    "### 2.2 Data Cleaning\n",
    "\n",
    "\n"
   ]
  },
  {
   "cell_type": "markdown",
   "metadata": {},
   "source": [
    "To prepare for the modelling later, in this step we try to rule out any potential anomalous data. We mainly focus on missing values and duplicated values, since these will lead us to a biased conclusion. "
   ]
  },
  {
   "cell_type": "code",
   "execution_count": 16,
   "metadata": {
    "colab": {
     "base_uri": "https://localhost:8080/"
    },
    "id": "x5kDyPH6UHlU",
    "outputId": "e8b43ba9-9325-479b-baa1-6c750fa2d10c"
   },
   "outputs": [
    {
     "name": "stdout",
     "output_type": "stream",
     "text": [
      "There are 0 duplicated observations\n"
     ]
    }
   ],
   "source": [
    "print(\"There are {} duplicated observations\".format(d.duplicated().sum()))\n",
    "# So we do not need to remove any data."
   ]
  },
  {
   "cell_type": "markdown",
   "metadata": {},
   "source": [
    "\n",
    "\n",
    "As the overall information of the data set shows previously, there is not any missing value. Also, according to the results above, there is no duplicated value. So we do not need to deal with the missing data and duplicated observations here.\n"
   ]
  },
  {
   "cell_type": "markdown",
   "metadata": {},
   "source": [
    "\n",
    "\n",
    "Additional analysis:\n",
    "We also plot the boxplots (did not include them here in the project for clarity and presentation purposes) for features to identify the potential outliers, and we find that the seemingly outliers mainly lay in the features: `total_votes`, `n_lines`, `n_directions`, and `n_words`. In the process of verification, we find these extreme values were all true and they were produced because of the diversity and the uncertainty of art creation, instead of recording mistakes. So we kept these extreme values and did not see them as outliers."
   ]
  },
  {
   "cell_type": "markdown",
   "metadata": {
    "id": "6-SUVt0nWC50"
   },
   "source": [
    "### 2.3 Initial Data Visualisation\n"
   ]
  },
  {
   "cell_type": "markdown",
   "metadata": {
    "id": "WpBh4YMdWZzt"
   },
   "source": [
    "\n",
    "\n",
    "#### 2.3.1 Numerical Variables\n",
    "\n"
   ]
  },
  {
   "cell_type": "markdown",
   "metadata": {},
   "source": [
    "##### Fuature magnitude.\n",
    "\n",
    "Analysing the numerical features of our data, most of them are count data. Since we know that particularly for the count data, there is quite a range of feature maginitudes present in the data, we might need to scaling the data for models. Therefore, we diaplay the feature magnitude of numerical data here for analysis."
   ]
  },
  {
   "cell_type": "code",
   "execution_count": 17,
   "metadata": {},
   "outputs": [
    {
     "data": {
      "image/png": "[encoded data removed]",
      "text/plain": [
       "<Figure size 1200x400 with 1 Axes>"
      ]
     },
     "metadata": {},
     "output_type": "display_data"
    }
   ],
   "source": [
    "fig, ax = plt.subplots(figsize=(15,5))\n",
    "\n",
    "d_num = np.array(d[[\"n_lines\",\"n_directions\",\"total_votes\",\"n_speak_char\"]])\n",
    "plt.boxplot(d_num[:,:], vert=False) \n",
    "plt.xscale(\"symlog\") \n",
    "plt.ylabel(\"Feature\") \n",
    "plt.xlabel(\"Feature magnitude\")\n",
    "\n",
    "ax.set_yticklabels([\"n_lines\",\"n_directions\",\"total_votes\",\"n_speak_char\"])\n",
    "\n",
    "plt.suptitle(\"Feature Maginitudes for the Numerical Data\")\n",
    "plt.tight_layout()\n",
    "plt.show()"
   ]
  },
  {
   "cell_type": "markdown",
   "metadata": {},
   "source": [
    "From the figure, we saw that the magnitude of all the numerical features are a liitle big, especially for `n_directions`(range from 11 to 166) and `total_votes`(range from 1393 to 7934). Therefore, we need to scale all these numerical features in the further steps.                                                                                  "
   ]
  },
  {
   "cell_type": "markdown",
   "metadata": {},
   "source": [
    "##### Normality\n",
    "\n",
    "For numerical features, we select the audience rating, total votes, number of lines, number of directions, number of words and number of speaking characters to study their distribution, determining the normality of their data since normality is an important assumption for many modelling techniques.\n",
    "\n"
   ]
  },
  {
   "cell_type": "code",
   "execution_count": 18,
   "metadata": {
    "colab": {
     "base_uri": "https://localhost:8080/",
     "height": 729
    },
    "id": "Bik_UGihWQwI",
    "outputId": "3fa64500-29c6-4f59-e9a7-a0791eed135c"
   },
   "outputs": [
    {
     "data": {
      "image/png": "[encoded data removed]",
      "text/plain": [
       "<Figure size 1080x720 with 6 Axes>"
      ]
     },
     "metadata": {
      "needs_background": "light"
     },
     "output_type": "display_data"
    }
   ],
   "source": [
    "%matplotlib inline\n",
    "\n",
    "# select the corresponding numerical variables to show their distributions\n",
    "d1 = d[[\"imdb_rating\",\"total_votes\",\"n_lines\",\"n_directions\",\"n_words\",\"n_speak_char\"]]\n",
    "\n",
    "# plot the histogram of the corresponding features\n",
    "fig, axes = plt.subplots(figsize=(15,10), ncols=3, nrows=2)\n",
    "axes = axes.flatten()\n",
    "for i, ax in enumerate(axes):\n",
    "    sns.histplot(data = d1.iloc[:,i], bins=50, ax=ax)\n",
    "    ax.set_title(d1.iloc[:,i].name)\n",
    "    ax.set_ylabel(\"\")\n",
    "    ax.set_xlabel(\"\")\n",
    "\n",
    "plt.tight_layout()\n",
    "plt.show()"
   ]
  },
  {
   "cell_type": "markdown",
   "metadata": {},
   "source": [
    "\n",
    "\n",
    "From the histogram above:\n",
    "1. The ratings that appeared the most were around 8.2, indicating that most of the episods are highly rated.\n",
    "2. Most vote numbers are below 2500.\n",
    "3. Most line numbers fell into the interval (250, 300), most direction numbers fell into the interval (40,60), most word numbers fell into the interval (2800, 3000), and most speaking-character number fell into the interval (18,22). They are all a little higher than the average level of the general American TV shows, showing its conversationality as a situational comedy\n",
    "\n",
    "4. Most importantly, we find that `imdb_rating`, `n_lines`, `n_directions`, `n_words`, and `n_speak_char` all show a good normality. However, the distribution for `total_votes` is not bell-shaped distributions. Therefore, we select to perform a Boc-Cox transformation on it, making it from a non-normal variable to a normal shape variable, so that we are able to run a broader number of tests in the later analysis."
   ]
  },
  {
   "cell_type": "markdown",
   "metadata": {
    "id": "GuJPiW6ffjdx"
   },
   "source": [
    "##### Box-Cox Transformation - 'total votes'\n",
    "From the analysis above, we perform a Box-Cox Transformation on the feature —— total votes here."
   ]
  },
  {
   "cell_type": "code",
   "execution_count": 19,
   "metadata": {
    "colab": {
     "base_uri": "https://localhost:8080/",
     "height": 369
    },
    "id": "rqpuESJVfnUl",
    "outputId": "eaacb111-6e92-4eac-8c83-684f3da9fa77"
   },
   "outputs": [
    {
     "data": {
      "image/png": "[encoded data removed]",
      "text/plain": [
       "<Figure size 1080x360 with 8 Axes>"
      ]
     },
     "metadata": {
      "needs_background": "light"
     },
     "output_type": "display_data"
    }
   ],
   "source": [
    "from scipy import stats\n",
    "# extract the data of the total_votes feature\n",
    "total_votes = np.array(d['total_votes'])\n",
    "\n",
    "# set the canvas\n",
    "fig, axes = plt.subplots(figsize=(15,5), ncols = 4, nrows = 2, sharey = True)\n",
    "axes = axes.flatten()\n",
    "\n",
    "# plot the histogram for the total votes\n",
    "sns.histplot(data = total_votes, ax=axes[0])\n",
    "axes[0].set_title(\"Total votes\")\n",
    "\n",
    "# set several parameters for Box-Cox Transformation and compare their performance\n",
    "for i, lmbda in enumerate([-2.5,-2,-1.5,-1,-0.5,0,0.5]):\n",
    "    \n",
    "    # perform the Box-Cox Transformation on total votes\n",
    "    vote_box_ = stats.boxcox(total_votes.astype(float), lmbda = lmbda)\n",
    "    # plot the histogram of the total votes after the Box-Cox transformation\n",
    "    sns.histplot(data = vote_box_, ax = axes[i+1])\n",
    "    axes[i+1].set_title(\"$\\lambda$ = {}\".format(lmbda))\n",
    "    \n",
    "plt.tight_layout()\n",
    "plt.show()"
   ]
  },
  {
   "cell_type": "markdown",
   "metadata": {},
   "source": [
    "\n",
    "\n",
    "From the figures above, we observed that when scale parameter(lambda) equals to -2.5, -2, -1.5, and -1, the distribution shows a relatively good normality. But we still can not determine the best scale parameter for the Box-Cox Transformation on tital votes, so we explore further to find the best lambda in the following codes:"
   ]
  },
  {
   "cell_type": "code",
   "execution_count": 20,
   "metadata": {},
   "outputs": [
    {
     "name": "stdout",
     "output_type": "stream",
     "text": [
      "The best scale parameter is -1.45.\n"
     ]
    },
    {
     "data": {
      "text/html": [
       "<div>\n",
       "<style scoped>\n",
       "    .dataframe tbody tr th:only-of-type {\n",
       "        vertical-align: middle;\n",
       "    }\n",
       "\n",
       "    .dataframe tbody tr th {\n",
       "        vertical-align: top;\n",
       "    }\n",
       "\n",
       "    .dataframe thead th {\n",
       "        text-align: right;\n",
       "    }\n",
       "</style>\n",
       "<table border=\"1\" class=\"dataframe\">\n",
       "  <thead>\n",
       "    <tr style=\"text-align: right;\">\n",
       "      <th></th>\n",
       "      <th>season</th>\n",
       "      <th>episode</th>\n",
       "      <th>episode_name</th>\n",
       "      <th>director</th>\n",
       "      <th>writer</th>\n",
       "      <th>imdb_rating</th>\n",
       "      <th>total_votes</th>\n",
       "      <th>air_date</th>\n",
       "      <th>n_lines</th>\n",
       "      <th>n_directions</th>\n",
       "      <th>n_words</th>\n",
       "      <th>n_speak_char</th>\n",
       "      <th>main_chars</th>\n",
       "    </tr>\n",
       "  </thead>\n",
       "  <tbody>\n",
       "    <tr>\n",
       "      <th>0</th>\n",
       "      <td>1</td>\n",
       "      <td>1</td>\n",
       "      <td>Pilot</td>\n",
       "      <td>Ken Kwapis</td>\n",
       "      <td>Ricky Gervais;Stephen Merchant;Greg Daniels</td>\n",
       "      <td>7.6</td>\n",
       "      <td>0.687487</td>\n",
       "      <td>2005-03-24</td>\n",
       "      <td>229</td>\n",
       "      <td>27</td>\n",
       "      <td>2757</td>\n",
       "      <td>15</td>\n",
       "      <td>Angela;Dwight;Jim;Kevin;Michael;Oscar;Pam;Phyl...</td>\n",
       "    </tr>\n",
       "    <tr>\n",
       "      <th>1</th>\n",
       "      <td>1</td>\n",
       "      <td>2</td>\n",
       "      <td>Diversity Day</td>\n",
       "      <td>Ken Kwapis</td>\n",
       "      <td>B.J. Novak</td>\n",
       "      <td>8.3</td>\n",
       "      <td>0.687487</td>\n",
       "      <td>2005-03-29</td>\n",
       "      <td>203</td>\n",
       "      <td>20</td>\n",
       "      <td>2808</td>\n",
       "      <td>12</td>\n",
       "      <td>Angela;Dwight;Jim;Kelly;Kevin;Michael;Oscar;Pa...</td>\n",
       "    </tr>\n",
       "    <tr>\n",
       "      <th>2</th>\n",
       "      <td>1</td>\n",
       "      <td>3</td>\n",
       "      <td>Health Care</td>\n",
       "      <td>Ken Whittingham</td>\n",
       "      <td>Paul Lieberstein</td>\n",
       "      <td>7.9</td>\n",
       "      <td>0.687485</td>\n",
       "      <td>2005-04-05</td>\n",
       "      <td>244</td>\n",
       "      <td>21</td>\n",
       "      <td>2769</td>\n",
       "      <td>13</td>\n",
       "      <td>Angela;Dwight;Jim;Kevin;Meredith;Michael;Oscar...</td>\n",
       "    </tr>\n",
       "    <tr>\n",
       "      <th>3</th>\n",
       "      <td>1</td>\n",
       "      <td>4</td>\n",
       "      <td>The Alliance</td>\n",
       "      <td>Bryan Gordon</td>\n",
       "      <td>Michael Schur</td>\n",
       "      <td>8.1</td>\n",
       "      <td>0.687485</td>\n",
       "      <td>2005-04-12</td>\n",
       "      <td>243</td>\n",
       "      <td>24</td>\n",
       "      <td>2939</td>\n",
       "      <td>14</td>\n",
       "      <td>Angela;Dwight;Jim;Kevin;Meredith;Michael;Oscar...</td>\n",
       "    </tr>\n",
       "    <tr>\n",
       "      <th>4</th>\n",
       "      <td>1</td>\n",
       "      <td>5</td>\n",
       "      <td>Basketball</td>\n",
       "      <td>Greg Daniels</td>\n",
       "      <td>Greg Daniels</td>\n",
       "      <td>8.4</td>\n",
       "      <td>0.687486</td>\n",
       "      <td>2005-04-19</td>\n",
       "      <td>230</td>\n",
       "      <td>49</td>\n",
       "      <td>2437</td>\n",
       "      <td>18</td>\n",
       "      <td>Angela;Darryl;Dwight;Jim;Kevin;Michael;Oscar;P...</td>\n",
       "    </tr>\n",
       "  </tbody>\n",
       "</table>\n",
       "</div>"
      ],
      "text/plain": [
       "   season  episode   episode_name         director  \\\n",
       "0       1        1          Pilot       Ken Kwapis   \n",
       "1       1        2  Diversity Day       Ken Kwapis   \n",
       "2       1        3    Health Care  Ken Whittingham   \n",
       "3       1        4   The Alliance     Bryan Gordon   \n",
       "4       1        5     Basketball     Greg Daniels   \n",
       "\n",
       "                                        writer  imdb_rating  total_votes  \\\n",
       "0  Ricky Gervais;Stephen Merchant;Greg Daniels          7.6     0.687487   \n",
       "1                                   B.J. Novak          8.3     0.687487   \n",
       "2                             Paul Lieberstein          7.9     0.687485   \n",
       "3                                Michael Schur          8.1     0.687485   \n",
       "4                                 Greg Daniels          8.4     0.687486   \n",
       "\n",
       "     air_date  n_lines  n_directions  n_words  n_speak_char  \\\n",
       "0  2005-03-24      229            27     2757            15   \n",
       "1  2005-03-29      203            20     2808            12   \n",
       "2  2005-04-05      244            21     2769            13   \n",
       "3  2005-04-12      243            24     2939            14   \n",
       "4  2005-04-19      230            49     2437            18   \n",
       "\n",
       "                                          main_chars  \n",
       "0  Angela;Dwight;Jim;Kevin;Michael;Oscar;Pam;Phyl...  \n",
       "1  Angela;Dwight;Jim;Kelly;Kevin;Michael;Oscar;Pa...  \n",
       "2  Angela;Dwight;Jim;Kevin;Meredith;Michael;Oscar...  \n",
       "3  Angela;Dwight;Jim;Kevin;Meredith;Michael;Oscar...  \n",
       "4  Angela;Darryl;Dwight;Jim;Kevin;Michael;Oscar;P...  "
      ]
     },
     "execution_count": 20,
     "metadata": {},
     "output_type": "execute_result"
    }
   ],
   "source": [
    "# obtain the best scale parameter \n",
    "vote_box_, bc_params = stats.boxcox(total_votes.astype(float), lmbda = None)\n",
    "print(\"The best scale parameter is {}.\".format(round(bc_params, 2)))\n",
    "\n",
    "# rescale 'total_votes'\n",
    "d['total_votes'] = vote_box_\n",
    "d.head()"
   ]
  },
  {
   "cell_type": "markdown",
   "metadata": {},
   "source": [
    "\n",
    "\n",
    "We obtain the best scale parameter which equals to -1.45 for the transformation and use this parameter to perform the Box-Cox Transformation. In this way, we obtain the new data set with transformed total_votes."
   ]
  },
  {
   "cell_type": "markdown",
   "metadata": {},
   "source": [
    "\n",
    "\n",
    "Since not all the features significantly influence the audience rating, we can drop some features through the data analysis, to prepare for the modelling.\n",
    "We firstly use heatmap tp explore the relationship between the different features."
   ]
  },
  {
   "cell_type": "markdown",
   "metadata": {
    "id": "o4U0n2tXW77j"
   },
   "source": [
    "##### Correlation\n",
    "\n",
    "We will use heatmap to find out if any of the features from our training set (X_train) are highly correlated\n",
    "\n"
   ]
  },
  {
   "cell_type": "code",
   "execution_count": 21,
   "metadata": {
    "colab": {
     "base_uri": "https://localhost:8080/",
     "height": 553
    },
    "id": "FLWFVRyQXUSy",
    "outputId": "0235ce74-1308-41e1-ba19-75edd759a5b3"
   },
   "outputs": [
    {
     "data": {
      "image/png": "[encoded data removed]",
      "text/plain": [
       "<Figure size 800x640 with 2 Axes>"
      ]
     },
     "metadata": {
      "needs_background": "light"
     },
     "output_type": "display_data"
    }
   ],
   "source": [
    "# plot the Heatmap of features\n",
    "plt.figure(figsize=(10, 8), dpi=80)\n",
    "sns.heatmap(d[['total_votes','n_lines','n_directions','n_words','n_speak_char','imdb_rating']].corr(), annot=True, fmt='.2f', linewidths=2)\n",
    "plt.title(\"Dataset Correlation Heatmap\")\n",
    "plt.show()"
   ]
  },
  {
   "cell_type": "markdown",
   "metadata": {},
   "source": [
    "\n",
    "\n",
    "From the Heatmap above, we find that the feature `n_words` and the feature `n_lines` are highly correlated (0.92). Combining the meaning of the `n_lines`: Number of spoken lines in episode, and the meaning of the `n_words`: Number of dialog words in episide, we knew that these two variables provide very similar information, and so we can drop one of them.\n",
    "\n",
    "Another pair with high correlation(0.73) is `imdb_rating` and total votes. Since their correlation is positive, we can infer that as the number of total votes increase, the `imdb_rating` would increase as well. This makes sense because generally speaking, people have more tend to rate a good episodes. However, since our object is advising on the creation of a special reunion of **The Office** and the total notes can not be controlled artificially, this feature can be included in our further predictive model, but might not been took into account in our final advise.\n"
   ]
  },
  {
   "cell_type": "markdown",
   "metadata": {},
   "source": [
    "\n",
    "\n",
    "Now we need drop the features which highly correlated with other features. We select the threshold equaling to 0.8. So when their correlation of the pairs is above 0.8, one of the feature in the pairs will be dropped."
   ]
  },
  {
   "cell_type": "code",
   "execution_count": 22,
   "metadata": {},
   "outputs": [
    {
     "name": "stdout",
     "output_type": "stream",
     "text": [
      "Correlated Feature Groups\n"
     ]
    },
    {
     "data": {
      "text/plain": [
       "[{'n_lines', 'n_words'}]"
      ]
     },
     "metadata": {},
     "output_type": "display_data"
    },
    {
     "name": "stdout",
     "output_type": "stream",
     "text": [
      "Dropped\n"
     ]
    },
    {
     "data": {
      "text/plain": [
       "['n_words']"
      ]
     },
     "execution_count": 22,
     "metadata": {},
     "output_type": "execute_result"
    }
   ],
   "source": [
    "from feature_engine.selection import DropCorrelatedFeatures\n",
    "\n",
    "# set  the threshold for dropping the feature\n",
    "fs = DropCorrelatedFeatures(variables=None, \n",
    "                            method='pearson', \n",
    "                            threshold=0.8)\n",
    "\n",
    "d_fs = fs.fit_transform(d)\n",
    "\n",
    "print(\"Correlated Feature Groups\")\n",
    "display(fs.correlated_feature_sets_)\n",
    "\n",
    "print(\"Dropped\")\n",
    "list(np.setdiff1d(list(d.columns), list(d_fs.columns)))"
   ]
  },
  {
   "cell_type": "markdown",
   "metadata": {
    "id": "j5bS7QLWY-q2"
   },
   "source": [
    "#### 2.3.2 Categorical Variables\n",
    "\n",
    "We will then have a look at our categorical variables: `director`, `writer`, and `main_chars`. Different directors, writers, or characters may all have impact on the episode rating and having an overview about ratings of different directors, writers, and characters will be helpful for us to make advise in creating a special reunion episode."
   ]
  },
  {
   "cell_type": "markdown",
   "metadata": {},
   "source": [
    "##### Directors\n",
    "We will first look at the `director`. We can see there are 61 different directors who have directored **The Office**. If we make all the directors to dummy variables in our predictive model, our model may be overfitted. Also, there are many directors have only directed a few episodes, and the ratings for their episodes may not be very representative. So, we decide to choose to look at the 15 directors who have worked on a large number of episodes, and compute the mean of ratings for the episodes those directers participate in.\n",
    "\n",
    "Below we have the figure of histogram showing the 15 directors and their episodes' ratings. According to the figure, we have sorted directors in descending order according to the number of episodes they have directed. We can see the director called **Randall Einhorn** have participated in the most episodes, and the episodes directed by the director called **Paul Feig** have the highest average rating.\n"
   ]
  },
  {
   "cell_type": "code",
   "execution_count": 23,
   "metadata": {
    "colab": {
     "base_uri": "https://localhost:8080/",
     "height": 481
    },
    "id": "zYSXM1drZC38",
    "outputId": "a65144c6-4f0a-4e1f-d6b1-2819c0a5dfc0"
   },
   "outputs": [
    {
     "name": "stdout",
     "output_type": "stream",
     "text": [
      "count                 186\n",
      "unique                 61\n",
      "top       Randall Einhorn\n",
      "freq                   15\n",
      "Name: director, dtype: object\n"
     ]
    }
   ],
   "source": [
    "print(d['director'].describe())"
   ]
  },
  {
   "cell_type": "code",
   "execution_count": 24,
   "metadata": {
    "colab": {
     "base_uri": "https://localhost:8080/",
     "height": 644
    },
    "id": "c8zBDoWkZJN9",
    "outputId": "6051fb4d-ab07-46cf-e593-801142986c84"
   },
   "outputs": [
    {
     "data": {
      "text/plain": [
       "Text(0.5, 1.0, \"Directors and their episodes' ratings\")"
      ]
     },
     "execution_count": 24,
     "metadata": {},
     "output_type": "execute_result"
    },
    {
     "data": {
      "image/png": "[encoded data removed]",
      "text/plain": [
       "<Figure size 432x288 with 1 Axes>"
      ]
     },
     "metadata": {
      "needs_background": "light"
     },
     "output_type": "display_data"
    }
   ],
   "source": [
    "directors = d['director'].value_counts().head(15).keys()\n",
    "# print(directors)\n",
    "\n",
    "def dir_mean_rating (name):\n",
    "    return d.loc[d['director'] == name, 'imdb_rating'].mean()\n",
    "\n",
    "dir_rating = []\n",
    "for x in directors:\n",
    "  dir_rating.append(dir_mean_rating(x))\n",
    "\n",
    "dir_df = pd.DataFrame(data={'directors':directors, 'rating':dir_rating})\n",
    "dir_plot = sns.barplot(x=directors, y=dir_rating, palette=\"Blues_d\")\n",
    "dir_plot.set(ylim=(7.5,9))\n",
    "dir_plot.set_xticklabels(dir_plot.get_xticklabels(), rotation=90)\n",
    "plt.xlabel(\"Directors in descending order of the no. of shows they directed\")\n",
    "plt.ylabel(\"Average rating of their shows\")\n",
    "plt.title(\"Directors and their episodes' ratings\")"
   ]
  },
  {
   "cell_type": "markdown",
   "metadata": {
    "id": "7BO5fRQYZWv8"
   },
   "source": [
    "##### Writers\n",
    "We will then look at the `writer`. We can see there are 47 different writers who have participated in **The Office**. We can also find in some of the episodes, there are more than one writers, and we will separate them later. Similar as we previously did for `director`, if we make all the writers to dummy variables in our predictive model, our model may be overfitted. Also, there are many writers or pairs of writers have only wrote a few episodes, and the ratings for their episodes may not be very representative. So, we decide to choose to look at the 15 writers who have worked on a large number of episodes, and compute the mean of ratings for the episodes those writers participate in.\n",
    "\n",
    "Below we have the figure of histogram showing the 15 writers and their episodes' ratings. According to the figure, we have sorted writers (or pairs of writers) in descending order according to the number of episodes they have written. We can see the writer called **Mindy Kaling** have participated in the most episodes, and the episodes written by the writer called **Greg Daniels** have the highest average rating."
   ]
  },
  {
   "cell_type": "code",
   "execution_count": 25,
   "metadata": {
    "colab": {
     "base_uri": "https://localhost:8080/",
     "height": 481
    },
    "id": "lfBn-qN1ZYKk",
    "outputId": "3415027a-6466-4a03-f0e8-b2e422a3270e"
   },
   "outputs": [
    {
     "name": "stdout",
     "output_type": "stream",
     "text": [
      "count              186\n",
      "unique              47\n",
      "top       Mindy Kaling\n",
      "freq                20\n",
      "Name: writer, dtype: object\n"
     ]
    }
   ],
   "source": [
    "print(d['writer'].describe()) # 47"
   ]
  },
  {
   "cell_type": "code",
   "execution_count": 26,
   "metadata": {
    "colab": {
     "base_uri": "https://localhost:8080/",
     "height": 729
    },
    "id": "f_EEiVuFZfjh",
    "outputId": "cc9167c2-516a-44b1-f1fa-32a85c8b63aa"
   },
   "outputs": [
    {
     "data": {
      "text/plain": [
       "Text(0.5, 1.0, \"Writers and their episodes' ratings\")"
      ]
     },
     "execution_count": 26,
     "metadata": {},
     "output_type": "execute_result"
    },
    {
     "data": {
      "image/png": "[encoded data removed]",
      "text/plain": [
       "<Figure size 432x288 with 1 Axes>"
      ]
     },
     "metadata": {
      "needs_background": "light"
     },
     "output_type": "display_data"
    }
   ],
   "source": [
    "writers = d['writer'].value_counts().head(15).keys()\n",
    "# print(writers)\n",
    "\n",
    "def wr_mean_rating (name):\n",
    "    return d.loc[d['writer'] == name, 'imdb_rating'].mean()\n",
    "\n",
    "wr_rating = []\n",
    "for x in writers:\n",
    "  wr_rating.append(wr_mean_rating(x))\n",
    "\n",
    "wr_df = pd.DataFrame(data={'writers':writers, 'rating':wr_rating})\n",
    "wr_plot = sns.barplot(x=writers, y=wr_rating, palette=\"Blues_d\")\n",
    "wr_plot.set(ylim=(7,8.9))\n",
    "wr_plot.set_xticklabels(wr_plot.get_xticklabels(), rotation=90)\n",
    "plt.xlabel(\"Writers in descending order of the no. of shows they wrote\")\n",
    "plt.ylabel(\"Average rating of their shows\")\n",
    "plt.title(\"Writers and their episodes' ratings\")"
   ]
  },
  {
   "cell_type": "markdown",
   "metadata": {
    "id": "fNPm_PIHZw1G"
   },
   "source": [
    "##### Characters\n",
    "We will look at our final categorical variable `main_chars`. The characters of each episode appear as pairs, and we can see there are 186 distinct pairs of characters participating in **The Office**. As it is hard to conduct analysis on pairs, we decide to separate the pairs of characters. After separating, we can see there are unique 17 characters who have participated in **The Office**, and the character **Dwight** has taken part in most episodes. We can also see that all of the characters have appeared in a large number of episodes, which means the episodes' ratings for every chracter are representative, and we will convert all of the characters into dummy variables in our further predictive model."
   ]
  },
  {
   "cell_type": "code",
   "execution_count": 27,
   "metadata": {
    "colab": {
     "base_uri": "https://localhost:8080/",
     "height": 481
    },
    "id": "gth6I9o5Zzz4",
    "outputId": "bec0e9d0-f50f-48ef-bdba-b92bdc4fdd85"
   },
   "outputs": [
    {
     "name": "stdout",
     "output_type": "stream",
     "text": [
      "count                                                   186\n",
      "unique                                                  122\n",
      "top       Andy;Angela;Creed;Darryl;Dwight;Erin;Jim;Kelly...\n",
      "freq                                                     10\n",
      "Name: main_chars, dtype: object\n"
     ]
    }
   ],
   "source": [
    "print(d['main_chars'].describe())"
   ]
  },
  {
   "cell_type": "code",
   "execution_count": 28,
   "metadata": {
    "colab": {
     "base_uri": "https://localhost:8080/"
    },
    "id": "JgmnVO3TZ5Ho",
    "outputId": "c2380d82-b8d4-4c69-d44f-d51215d73cda"
   },
   "outputs": [
    {
     "data": {
      "text/plain": [
       "[('Dwight', 186),\n",
       " ('Jim', 185),\n",
       " ('Pam', 182),\n",
       " ('Kevin', 180),\n",
       " ('Angela', 171),\n",
       " ('Phyllis', 165),\n",
       " ('Stanley', 165),\n",
       " ('Oscar', 164),\n",
       " ('Andy', 143),\n",
       " ('Kelly', 142),\n",
       " ('Ryan', 139),\n",
       " ('Michael', 137),\n",
       " ('Meredith', 131),\n",
       " ('Creed', 131),\n",
       " ('Toby', 108),\n",
       " ('Darryl', 105),\n",
       " ('Erin', 98)]"
      ]
     },
     "execution_count": 28,
     "metadata": {},
     "output_type": "execute_result"
    }
   ],
   "source": [
    "d['main_chars_list'] = d['main_chars'].apply(lambda x: x.split(';') if type(x)==str else [])\n",
    "chars = []\n",
    "for i in d['main_chars_list']:\n",
    "    chars.extend(i)\n",
    "\n",
    "from collections import Counter\n",
    "chars_counts = Counter(chars).most_common()\n",
    "chars_name = np.unique(chars)\n",
    "chars_name = chars_name.tolist()\n",
    "\n",
    "chars_counts"
   ]
  },
  {
   "cell_type": "markdown",
   "metadata": {
    "id": "DFMGiolEnzoo"
   },
   "source": [
    "### 2.4 Data Preprocessing and Feature Engineering\n",
    "\n",
    "As we have previously discussed, we want to separate pairs of writers. We use `pd.merge` function to do such procedure. As the overview of our updated data set `d_mw` shows, same `id` represents the same episode. For example, in our original data set, the writers for episode 1 appear to a pair of 3 people, but in our new data set, we separate each writer of the three into different rows."
   ]
  },
  {
   "cell_type": "code",
   "execution_count": 29,
   "metadata": {
    "id": "VXGsA9zejuC6"
   },
   "outputs": [
    {
     "data": {
      "text/html": [
       "<div>\n",
       "<style scoped>\n",
       "    .dataframe tbody tr th:only-of-type {\n",
       "        vertical-align: middle;\n",
       "    }\n",
       "\n",
       "    .dataframe tbody tr th {\n",
       "        vertical-align: top;\n",
       "    }\n",
       "\n",
       "    .dataframe thead th {\n",
       "        text-align: right;\n",
       "    }\n",
       "</style>\n",
       "<table border=\"1\" class=\"dataframe\">\n",
       "  <thead>\n",
       "    <tr style=\"text-align: right;\">\n",
       "      <th></th>\n",
       "      <th>season</th>\n",
       "      <th>episode</th>\n",
       "      <th>episode_name</th>\n",
       "      <th>director</th>\n",
       "      <th>imdb_rating</th>\n",
       "      <th>total_votes</th>\n",
       "      <th>air_date</th>\n",
       "      <th>n_lines</th>\n",
       "      <th>n_directions</th>\n",
       "      <th>n_words</th>\n",
       "      <th>n_speak_char</th>\n",
       "      <th>main_chars</th>\n",
       "      <th>main_chars_list</th>\n",
       "      <th>id</th>\n",
       "      <th>writer</th>\n",
       "    </tr>\n",
       "  </thead>\n",
       "  <tbody>\n",
       "    <tr>\n",
       "      <th>0</th>\n",
       "      <td>1</td>\n",
       "      <td>1</td>\n",
       "      <td>Pilot</td>\n",
       "      <td>Ken Kwapis</td>\n",
       "      <td>7.6</td>\n",
       "      <td>0.687487</td>\n",
       "      <td>2005-03-24</td>\n",
       "      <td>229</td>\n",
       "      <td>27</td>\n",
       "      <td>2757</td>\n",
       "      <td>15</td>\n",
       "      <td>Angela;Dwight;Jim;Kevin;Michael;Oscar;Pam;Phyl...</td>\n",
       "      <td>[Angela, Dwight, Jim, Kevin, Michael, Oscar, P...</td>\n",
       "      <td>1</td>\n",
       "      <td>Ricky Gervais</td>\n",
       "    </tr>\n",
       "    <tr>\n",
       "      <th>1</th>\n",
       "      <td>1</td>\n",
       "      <td>1</td>\n",
       "      <td>Pilot</td>\n",
       "      <td>Ken Kwapis</td>\n",
       "      <td>7.6</td>\n",
       "      <td>0.687487</td>\n",
       "      <td>2005-03-24</td>\n",
       "      <td>229</td>\n",
       "      <td>27</td>\n",
       "      <td>2757</td>\n",
       "      <td>15</td>\n",
       "      <td>Angela;Dwight;Jim;Kevin;Michael;Oscar;Pam;Phyl...</td>\n",
       "      <td>[Angela, Dwight, Jim, Kevin, Michael, Oscar, P...</td>\n",
       "      <td>1</td>\n",
       "      <td>Stephen Merchant</td>\n",
       "    </tr>\n",
       "    <tr>\n",
       "      <th>2</th>\n",
       "      <td>1</td>\n",
       "      <td>1</td>\n",
       "      <td>Pilot</td>\n",
       "      <td>Ken Kwapis</td>\n",
       "      <td>7.6</td>\n",
       "      <td>0.687487</td>\n",
       "      <td>2005-03-24</td>\n",
       "      <td>229</td>\n",
       "      <td>27</td>\n",
       "      <td>2757</td>\n",
       "      <td>15</td>\n",
       "      <td>Angela;Dwight;Jim;Kevin;Michael;Oscar;Pam;Phyl...</td>\n",
       "      <td>[Angela, Dwight, Jim, Kevin, Michael, Oscar, P...</td>\n",
       "      <td>1</td>\n",
       "      <td>Greg Daniels</td>\n",
       "    </tr>\n",
       "    <tr>\n",
       "      <th>3</th>\n",
       "      <td>1</td>\n",
       "      <td>2</td>\n",
       "      <td>Diversity Day</td>\n",
       "      <td>Ken Kwapis</td>\n",
       "      <td>8.3</td>\n",
       "      <td>0.687487</td>\n",
       "      <td>2005-03-29</td>\n",
       "      <td>203</td>\n",
       "      <td>20</td>\n",
       "      <td>2808</td>\n",
       "      <td>12</td>\n",
       "      <td>Angela;Dwight;Jim;Kelly;Kevin;Michael;Oscar;Pa...</td>\n",
       "      <td>[Angela, Dwight, Jim, Kelly, Kevin, Michael, O...</td>\n",
       "      <td>2</td>\n",
       "      <td>B.J. Novak</td>\n",
       "    </tr>\n",
       "    <tr>\n",
       "      <th>4</th>\n",
       "      <td>1</td>\n",
       "      <td>3</td>\n",
       "      <td>Health Care</td>\n",
       "      <td>Ken Whittingham</td>\n",
       "      <td>7.9</td>\n",
       "      <td>0.687485</td>\n",
       "      <td>2005-04-05</td>\n",
       "      <td>244</td>\n",
       "      <td>21</td>\n",
       "      <td>2769</td>\n",
       "      <td>13</td>\n",
       "      <td>Angela;Dwight;Jim;Kevin;Meredith;Michael;Oscar...</td>\n",
       "      <td>[Angela, Dwight, Jim, Kevin, Meredith, Michael...</td>\n",
       "      <td>3</td>\n",
       "      <td>Paul Lieberstein</td>\n",
       "    </tr>\n",
       "  </tbody>\n",
       "</table>\n",
       "</div>"
      ],
      "text/plain": [
       "   season  episode   episode_name         director  imdb_rating  total_votes  \\\n",
       "0       1        1          Pilot       Ken Kwapis          7.6     0.687487   \n",
       "1       1        1          Pilot       Ken Kwapis          7.6     0.687487   \n",
       "2       1        1          Pilot       Ken Kwapis          7.6     0.687487   \n",
       "3       1        2  Diversity Day       Ken Kwapis          8.3     0.687487   \n",
       "4       1        3    Health Care  Ken Whittingham          7.9     0.687485   \n",
       "\n",
       "     air_date  n_lines  n_directions  n_words  n_speak_char  \\\n",
       "0  2005-03-24      229            27     2757            15   \n",
       "1  2005-03-24      229            27     2757            15   \n",
       "2  2005-03-24      229            27     2757            15   \n",
       "3  2005-03-29      203            20     2808            12   \n",
       "4  2005-04-05      244            21     2769            13   \n",
       "\n",
       "                                          main_chars  \\\n",
       "0  Angela;Dwight;Jim;Kevin;Michael;Oscar;Pam;Phyl...   \n",
       "1  Angela;Dwight;Jim;Kevin;Michael;Oscar;Pam;Phyl...   \n",
       "2  Angela;Dwight;Jim;Kevin;Michael;Oscar;Pam;Phyl...   \n",
       "3  Angela;Dwight;Jim;Kelly;Kevin;Michael;Oscar;Pa...   \n",
       "4  Angela;Dwight;Jim;Kevin;Meredith;Michael;Oscar...   \n",
       "\n",
       "                                     main_chars_list  id            writer  \n",
       "0  [Angela, Dwight, Jim, Kevin, Michael, Oscar, P...   1     Ricky Gervais  \n",
       "1  [Angela, Dwight, Jim, Kevin, Michael, Oscar, P...   1  Stephen Merchant  \n",
       "2  [Angela, Dwight, Jim, Kevin, Michael, Oscar, P...   1      Greg Daniels  \n",
       "3  [Angela, Dwight, Jim, Kelly, Kevin, Michael, O...   2        B.J. Novak  \n",
       "4  [Angela, Dwight, Jim, Kevin, Meredith, Michael...   3  Paul Lieberstein  "
      ]
     },
     "execution_count": 29,
     "metadata": {},
     "output_type": "execute_result"
    }
   ],
   "source": [
    "df1_fs = pd.read_csv(\"the_office.csv\", usecols=[\"season\", \"episode_name\", \"imdb_rating\",\"writer\"])\n",
    "df2_fs = d\n",
    "# df2_fs = pd.read_csv(\"the_office.csv\")\n",
    "df2_fs = df2_fs.drop('writer',axis=1)\n",
    "df1_fs['id'] = df1_fs.index + 1\n",
    "df2_fs['id'] = df2_fs.index + 1\n",
    "\n",
    "df3_fs = df1_fs.set_index('id').writer.str.split(';' ,expand = True ).stack().reset_index(1,drop=True).reset_index(name='writer')\n",
    "d_mw = pd.merge(df2_fs,df3_fs,on=\"id\") \n",
    "d_mw.head(5)"
   ]
  },
  {
   "cell_type": "markdown",
   "metadata": {},
   "source": [
    "We have only interested in the first 15 directors and writers who have participated in the large number of episodes, so we will reconstruct our data set to make sure the updated data `d_select` only have the directors and writers we are interested in. \n",
    "\n",
    "For the updated data set `d_select`, the main chracters still appear as pairs, so we need to separate them as we did in the previous part. In this stage, besides separting pairs of chracters into individual ones, we also directly make dummy variables for the characters. Each name of the individual characters should be a new column of the data, and the value will be 1 if the character takes part in a given episode, 0 if the character does not appear. For example, according to the overview of our updated data set `df`, we can see the character called **Kelly** participated in the episode 2 of season 1, but did not participate in any other 3 episodes of season 1."
   ]
  },
  {
   "cell_type": "code",
   "execution_count": 30,
   "metadata": {},
   "outputs": [
    {
     "data": {
      "text/html": [
       "<div>\n",
       "<style scoped>\n",
       "    .dataframe tbody tr th:only-of-type {\n",
       "        vertical-align: middle;\n",
       "    }\n",
       "\n",
       "    .dataframe tbody tr th {\n",
       "        vertical-align: top;\n",
       "    }\n",
       "\n",
       "    .dataframe thead th {\n",
       "        text-align: right;\n",
       "    }\n",
       "</style>\n",
       "<table border=\"1\" class=\"dataframe\">\n",
       "  <thead>\n",
       "    <tr style=\"text-align: right;\">\n",
       "      <th></th>\n",
       "      <th>season</th>\n",
       "      <th>episode</th>\n",
       "      <th>episode_name</th>\n",
       "      <th>director</th>\n",
       "      <th>imdb_rating</th>\n",
       "      <th>total_votes</th>\n",
       "      <th>air_date</th>\n",
       "      <th>n_lines</th>\n",
       "      <th>n_directions</th>\n",
       "      <th>n_words</th>\n",
       "      <th>...</th>\n",
       "      <th>Kelly</th>\n",
       "      <th>Kevin</th>\n",
       "      <th>Meredith</th>\n",
       "      <th>Michael</th>\n",
       "      <th>Oscar</th>\n",
       "      <th>Pam</th>\n",
       "      <th>Phyllis</th>\n",
       "      <th>Ryan</th>\n",
       "      <th>Stanley</th>\n",
       "      <th>Toby</th>\n",
       "    </tr>\n",
       "  </thead>\n",
       "  <tbody>\n",
       "    <tr>\n",
       "      <th>0</th>\n",
       "      <td>1</td>\n",
       "      <td>1</td>\n",
       "      <td>Pilot</td>\n",
       "      <td>Ken Kwapis</td>\n",
       "      <td>7.6</td>\n",
       "      <td>0.687487</td>\n",
       "      <td>2005-03-24</td>\n",
       "      <td>229</td>\n",
       "      <td>27</td>\n",
       "      <td>2757</td>\n",
       "      <td>...</td>\n",
       "      <td>0</td>\n",
       "      <td>1</td>\n",
       "      <td>0</td>\n",
       "      <td>1</td>\n",
       "      <td>1</td>\n",
       "      <td>1</td>\n",
       "      <td>1</td>\n",
       "      <td>1</td>\n",
       "      <td>1</td>\n",
       "      <td>0</td>\n",
       "    </tr>\n",
       "    <tr>\n",
       "      <th>1</th>\n",
       "      <td>1</td>\n",
       "      <td>2</td>\n",
       "      <td>Diversity Day</td>\n",
       "      <td>Ken Kwapis</td>\n",
       "      <td>8.3</td>\n",
       "      <td>0.687487</td>\n",
       "      <td>2005-03-29</td>\n",
       "      <td>203</td>\n",
       "      <td>20</td>\n",
       "      <td>2808</td>\n",
       "      <td>...</td>\n",
       "      <td>1</td>\n",
       "      <td>1</td>\n",
       "      <td>0</td>\n",
       "      <td>1</td>\n",
       "      <td>1</td>\n",
       "      <td>1</td>\n",
       "      <td>0</td>\n",
       "      <td>1</td>\n",
       "      <td>1</td>\n",
       "      <td>1</td>\n",
       "    </tr>\n",
       "    <tr>\n",
       "      <th>2</th>\n",
       "      <td>1</td>\n",
       "      <td>3</td>\n",
       "      <td>Health Care</td>\n",
       "      <td>Ken Whittingham</td>\n",
       "      <td>7.9</td>\n",
       "      <td>0.687485</td>\n",
       "      <td>2005-04-05</td>\n",
       "      <td>244</td>\n",
       "      <td>21</td>\n",
       "      <td>2769</td>\n",
       "      <td>...</td>\n",
       "      <td>0</td>\n",
       "      <td>1</td>\n",
       "      <td>1</td>\n",
       "      <td>1</td>\n",
       "      <td>1</td>\n",
       "      <td>1</td>\n",
       "      <td>0</td>\n",
       "      <td>1</td>\n",
       "      <td>1</td>\n",
       "      <td>0</td>\n",
       "    </tr>\n",
       "    <tr>\n",
       "      <th>3</th>\n",
       "      <td>1</td>\n",
       "      <td>5</td>\n",
       "      <td>Basketball</td>\n",
       "      <td>Greg Daniels</td>\n",
       "      <td>8.4</td>\n",
       "      <td>0.687486</td>\n",
       "      <td>2005-04-19</td>\n",
       "      <td>230</td>\n",
       "      <td>49</td>\n",
       "      <td>2437</td>\n",
       "      <td>...</td>\n",
       "      <td>0</td>\n",
       "      <td>1</td>\n",
       "      <td>0</td>\n",
       "      <td>1</td>\n",
       "      <td>1</td>\n",
       "      <td>1</td>\n",
       "      <td>1</td>\n",
       "      <td>1</td>\n",
       "      <td>1</td>\n",
       "      <td>0</td>\n",
       "    </tr>\n",
       "    <tr>\n",
       "      <th>4</th>\n",
       "      <td>2</td>\n",
       "      <td>1</td>\n",
       "      <td>The Dundies</td>\n",
       "      <td>Greg Daniels</td>\n",
       "      <td>8.7</td>\n",
       "      <td>0.687486</td>\n",
       "      <td>2005-09-20</td>\n",
       "      <td>256</td>\n",
       "      <td>59</td>\n",
       "      <td>2812</td>\n",
       "      <td>...</td>\n",
       "      <td>1</td>\n",
       "      <td>1</td>\n",
       "      <td>0</td>\n",
       "      <td>1</td>\n",
       "      <td>1</td>\n",
       "      <td>1</td>\n",
       "      <td>1</td>\n",
       "      <td>1</td>\n",
       "      <td>1</td>\n",
       "      <td>0</td>\n",
       "    </tr>\n",
       "  </tbody>\n",
       "</table>\n",
       "<p>5 rows × 33 columns</p>\n",
       "</div>"
      ],
      "text/plain": [
       "   season  episode   episode_name         director  imdb_rating  total_votes  \\\n",
       "0       1        1          Pilot       Ken Kwapis          7.6     0.687487   \n",
       "1       1        2  Diversity Day       Ken Kwapis          8.3     0.687487   \n",
       "2       1        3    Health Care  Ken Whittingham          7.9     0.687485   \n",
       "3       1        5     Basketball     Greg Daniels          8.4     0.687486   \n",
       "4       2        1    The Dundies     Greg Daniels          8.7     0.687486   \n",
       "\n",
       "     air_date  n_lines  n_directions  n_words  ...  Kelly Kevin Meredith  \\\n",
       "0  2005-03-24      229            27     2757  ...      0     1        0   \n",
       "1  2005-03-29      203            20     2808  ...      1     1        0   \n",
       "2  2005-04-05      244            21     2769  ...      0     1        1   \n",
       "3  2005-04-19      230            49     2437  ...      0     1        0   \n",
       "4  2005-09-20      256            59     2812  ...      1     1        0   \n",
       "\n",
       "   Michael Oscar Pam  Phyllis  Ryan  Stanley  Toby  \n",
       "0        1     1   1        1     1        1     0  \n",
       "1        1     1   1        0     1        1     1  \n",
       "2        1     1   1        0     1        1     0  \n",
       "3        1     1   1        1     1        1     0  \n",
       "4        1     1   1        1     1        1     0  \n",
       "\n",
       "[5 rows x 33 columns]"
      ]
     },
     "execution_count": 30,
     "metadata": {},
     "output_type": "execute_result"
    }
   ],
   "source": [
    "directors = d_mw['director'].value_counts().head(15).keys()\n",
    "writers = d_mw['writer'].value_counts().head(15).keys()\n",
    "\n",
    "# split 'main_chars' strings into a list for the episode with multiple characters\n",
    "d_mw['char_list'] = d_mw['main_chars'].apply(lambda x: x.split(';') if type(x)==str else[])\n",
    "\n",
    "# get unique character names and see counts for each character act in The Office\n",
    "chars = []\n",
    "for i in d_mw['char_list']:\n",
    "    chars.extend(i)\n",
    "\n",
    "from collections import Counter\n",
    "chars_counts = Counter(chars).most_common()\n",
    "chars_name = np.unique(chars)\n",
    "chars_name = chars_name.tolist()\n",
    "\n",
    "# re-construct data with only 15 directors and 15 writters we previous get in the 'directors' and 'writers' list\n",
    "d_select = d_mw[d_mw['director'].isin(directors) & d_mw['writer'].isin(writers)]\n",
    "d_select = d_select.reset_index(drop=True)\n",
    "\n",
    "# separate main characters and make each main chracters into dummy variables\n",
    "df = d_select.copy()\n",
    "df[chars_name[1]] = [0] * df.shape[0]\n",
    "for i in range(len(chars_name)):\n",
    "    df[chars_name[i]] = [0] * df.shape[0]\n",
    "    \n",
    "for i in range(df.shape[0]):\n",
    "    for char in chars_name:\n",
    "        if char in df.loc[i,'main_chars']:\n",
    "            df.loc[i, char] = 1\n",
    "\n",
    "df.head()"
   ]
  },
  {
   "cell_type": "markdown",
   "metadata": {},
   "source": [
    "We also want to make dummy variables for the variable `director` and `writer`. For these two variables, we can easily get dummy variables using the function `pd.get_dummies`. Each of 15 directors and 15 writers will appear as a new column of the data set, and value eqauls 1 indicating the director/writer took part in the given episode, 0 indicating the director/writer did not take part in."
   ]
  },
  {
   "cell_type": "code",
   "execution_count": 31,
   "metadata": {},
   "outputs": [
    {
     "data": {
      "text/html": [
       "<div>\n",
       "<style scoped>\n",
       "    .dataframe tbody tr th:only-of-type {\n",
       "        vertical-align: middle;\n",
       "    }\n",
       "\n",
       "    .dataframe tbody tr th {\n",
       "        vertical-align: top;\n",
       "    }\n",
       "\n",
       "    .dataframe thead th {\n",
       "        text-align: right;\n",
       "    }\n",
       "</style>\n",
       "<table border=\"1\" class=\"dataframe\">\n",
       "  <thead>\n",
       "    <tr style=\"text-align: right;\">\n",
       "      <th></th>\n",
       "      <th>season</th>\n",
       "      <th>episode</th>\n",
       "      <th>episode_name</th>\n",
       "      <th>imdb_rating</th>\n",
       "      <th>total_votes</th>\n",
       "      <th>air_date</th>\n",
       "      <th>n_lines</th>\n",
       "      <th>n_directions</th>\n",
       "      <th>n_words</th>\n",
       "      <th>n_speak_char</th>\n",
       "      <th>...</th>\n",
       "      <th>writer_Gene Stupnitsky</th>\n",
       "      <th>writer_Greg Daniels</th>\n",
       "      <th>writer_Halsted Sullivan</th>\n",
       "      <th>writer_Jennifer Celotta</th>\n",
       "      <th>writer_Justin Spitzer</th>\n",
       "      <th>writer_Lee Eisenberg</th>\n",
       "      <th>writer_Michael Schur</th>\n",
       "      <th>writer_Mindy Kaling</th>\n",
       "      <th>writer_Paul Lieberstein</th>\n",
       "      <th>writer_Warren Lieberstein</th>\n",
       "    </tr>\n",
       "  </thead>\n",
       "  <tbody>\n",
       "    <tr>\n",
       "      <th>0</th>\n",
       "      <td>1</td>\n",
       "      <td>1</td>\n",
       "      <td>Pilot</td>\n",
       "      <td>7.6</td>\n",
       "      <td>0.687487</td>\n",
       "      <td>2005-03-24</td>\n",
       "      <td>229</td>\n",
       "      <td>27</td>\n",
       "      <td>2757</td>\n",
       "      <td>15</td>\n",
       "      <td>...</td>\n",
       "      <td>0</td>\n",
       "      <td>1</td>\n",
       "      <td>0</td>\n",
       "      <td>0</td>\n",
       "      <td>0</td>\n",
       "      <td>0</td>\n",
       "      <td>0</td>\n",
       "      <td>0</td>\n",
       "      <td>0</td>\n",
       "      <td>0</td>\n",
       "    </tr>\n",
       "    <tr>\n",
       "      <th>1</th>\n",
       "      <td>1</td>\n",
       "      <td>2</td>\n",
       "      <td>Diversity Day</td>\n",
       "      <td>8.3</td>\n",
       "      <td>0.687487</td>\n",
       "      <td>2005-03-29</td>\n",
       "      <td>203</td>\n",
       "      <td>20</td>\n",
       "      <td>2808</td>\n",
       "      <td>12</td>\n",
       "      <td>...</td>\n",
       "      <td>0</td>\n",
       "      <td>0</td>\n",
       "      <td>0</td>\n",
       "      <td>0</td>\n",
       "      <td>0</td>\n",
       "      <td>0</td>\n",
       "      <td>0</td>\n",
       "      <td>0</td>\n",
       "      <td>0</td>\n",
       "      <td>0</td>\n",
       "    </tr>\n",
       "    <tr>\n",
       "      <th>2</th>\n",
       "      <td>1</td>\n",
       "      <td>3</td>\n",
       "      <td>Health Care</td>\n",
       "      <td>7.9</td>\n",
       "      <td>0.687485</td>\n",
       "      <td>2005-04-05</td>\n",
       "      <td>244</td>\n",
       "      <td>21</td>\n",
       "      <td>2769</td>\n",
       "      <td>13</td>\n",
       "      <td>...</td>\n",
       "      <td>0</td>\n",
       "      <td>0</td>\n",
       "      <td>0</td>\n",
       "      <td>0</td>\n",
       "      <td>0</td>\n",
       "      <td>0</td>\n",
       "      <td>0</td>\n",
       "      <td>0</td>\n",
       "      <td>1</td>\n",
       "      <td>0</td>\n",
       "    </tr>\n",
       "    <tr>\n",
       "      <th>3</th>\n",
       "      <td>1</td>\n",
       "      <td>5</td>\n",
       "      <td>Basketball</td>\n",
       "      <td>8.4</td>\n",
       "      <td>0.687486</td>\n",
       "      <td>2005-04-19</td>\n",
       "      <td>230</td>\n",
       "      <td>49</td>\n",
       "      <td>2437</td>\n",
       "      <td>18</td>\n",
       "      <td>...</td>\n",
       "      <td>0</td>\n",
       "      <td>1</td>\n",
       "      <td>0</td>\n",
       "      <td>0</td>\n",
       "      <td>0</td>\n",
       "      <td>0</td>\n",
       "      <td>0</td>\n",
       "      <td>0</td>\n",
       "      <td>0</td>\n",
       "      <td>0</td>\n",
       "    </tr>\n",
       "    <tr>\n",
       "      <th>4</th>\n",
       "      <td>2</td>\n",
       "      <td>1</td>\n",
       "      <td>The Dundies</td>\n",
       "      <td>8.7</td>\n",
       "      <td>0.687486</td>\n",
       "      <td>2005-09-20</td>\n",
       "      <td>256</td>\n",
       "      <td>59</td>\n",
       "      <td>2812</td>\n",
       "      <td>20</td>\n",
       "      <td>...</td>\n",
       "      <td>0</td>\n",
       "      <td>0</td>\n",
       "      <td>0</td>\n",
       "      <td>0</td>\n",
       "      <td>0</td>\n",
       "      <td>0</td>\n",
       "      <td>0</td>\n",
       "      <td>1</td>\n",
       "      <td>0</td>\n",
       "      <td>0</td>\n",
       "    </tr>\n",
       "  </tbody>\n",
       "</table>\n",
       "<p>5 rows × 61 columns</p>\n",
       "</div>"
      ],
      "text/plain": [
       "   season  episode   episode_name  imdb_rating  total_votes    air_date  \\\n",
       "0       1        1          Pilot          7.6     0.687487  2005-03-24   \n",
       "1       1        2  Diversity Day          8.3     0.687487  2005-03-29   \n",
       "2       1        3    Health Care          7.9     0.687485  2005-04-05   \n",
       "3       1        5     Basketball          8.4     0.687486  2005-04-19   \n",
       "4       2        1    The Dundies          8.7     0.687486  2005-09-20   \n",
       "\n",
       "   n_lines  n_directions  n_words  n_speak_char  ... writer_Gene Stupnitsky  \\\n",
       "0      229            27     2757            15  ...                      0   \n",
       "1      203            20     2808            12  ...                      0   \n",
       "2      244            21     2769            13  ...                      0   \n",
       "3      230            49     2437            18  ...                      0   \n",
       "4      256            59     2812            20  ...                      0   \n",
       "\n",
       "  writer_Greg Daniels  writer_Halsted Sullivan writer_Jennifer Celotta  \\\n",
       "0                   1                        0                       0   \n",
       "1                   0                        0                       0   \n",
       "2                   0                        0                       0   \n",
       "3                   1                        0                       0   \n",
       "4                   0                        0                       0   \n",
       "\n",
       "   writer_Justin Spitzer  writer_Lee Eisenberg  writer_Michael Schur  \\\n",
       "0                      0                     0                     0   \n",
       "1                      0                     0                     0   \n",
       "2                      0                     0                     0   \n",
       "3                      0                     0                     0   \n",
       "4                      0                     0                     0   \n",
       "\n",
       "   writer_Mindy Kaling  writer_Paul Lieberstein  writer_Warren Lieberstein  \n",
       "0                    0                        0                          0  \n",
       "1                    0                        0                          0  \n",
       "2                    0                        1                          0  \n",
       "3                    0                        0                          0  \n",
       "4                    1                        0                          0  \n",
       "\n",
       "[5 rows x 61 columns]"
      ]
     },
     "execution_count": 31,
     "metadata": {},
     "output_type": "execute_result"
    }
   ],
   "source": [
    "# get dummy variables\n",
    "from sklearn.preprocessing import OneHotEncoder\n",
    "dummy_vars = ['director','writer']\n",
    "full_dummies = pd.get_dummies(df,columns=dummy_vars)\n",
    "full_dummies.head()"
   ]
  },
  {
   "cell_type": "markdown",
   "metadata": {},
   "source": [
    "We will then further manage our data. As we are interested in what features make the episodes popular and want to create a reunion episode. The variable `season`, `episode`, `episode_name`, `air_date` will not be useful for our predictive model as the values for these variables can not be achieved again. The variable `id` is the variable we add when dealing with original `writer` variable, so it is also not useful for our model. Additionally, since we have already had the dummy variables for all the individual characters, we will also drop the variables\n",
    "`main_chars`, `char_list`, and `main_chars_list`.\n",
    "\n",
    "After dropping those variables, we can make our model matrix and response vector. The response varaible in our model is `imdb_rating`, and the model matrix is the data set excluding the response. \n",
    "\n",
    "We can then split our data into two distinct sets. The first called the `training set` will contain our test data `X_train` and `y_train` which is used for determining the feature weights. The second called the `test set` will contain our testing data `X_test` and `y_test`."
   ]
  },
  {
   "cell_type": "code",
   "execution_count": 32,
   "metadata": {},
   "outputs": [
    {
     "data": {
      "text/plain": [
       "Index(['total_votes', 'n_lines', 'n_directions', 'n_speak_char', 'Angela',\n",
       "       'Andy', 'Creed', 'Darryl', 'Dwight', 'Erin', 'Jim', 'Kelly', 'Kevin',\n",
       "       'Meredith', 'Michael', 'Oscar', 'Pam', 'Phyllis', 'Ryan', 'Stanley',\n",
       "       'Toby', 'director_B.J. Novak', 'director_Brent Forrester',\n",
       "       'director_Charles McDougall', 'director_David Rogers',\n",
       "       'director_Greg Daniels', 'director_Harold Ramis',\n",
       "       'director_Jeffrey Blitz', 'director_Ken Kwapis',\n",
       "       'director_Ken Whittingham', 'director_Matt Sohn', 'director_Paul Feig',\n",
       "       'director_Paul Lieberstein', 'director_Rainn Wilson',\n",
       "       'director_Randall Einhorn', 'director_Tucker Gates',\n",
       "       'writer_Aaron Shure', 'writer_B.J. Novak', 'writer_Brent Forrester',\n",
       "       'writer_Charlie Grandy', 'writer_Daniel Chun', 'writer_Gene Stupnitsky',\n",
       "       'writer_Greg Daniels', 'writer_Halsted Sullivan',\n",
       "       'writer_Jennifer Celotta', 'writer_Justin Spitzer',\n",
       "       'writer_Lee Eisenberg', 'writer_Michael Schur', 'writer_Mindy Kaling',\n",
       "       'writer_Paul Lieberstein', 'writer_Warren Lieberstein'],\n",
       "      dtype='object')"
      ]
     },
     "execution_count": 32,
     "metadata": {},
     "output_type": "execute_result"
    }
   ],
   "source": [
    "# suppose season, episode, episode_name, air_date, id are not useful for our model construction\n",
    "# as we have dummy coding main characters, drop main_chars and char_list\n",
    "full_dummies_2 = full_dummies.drop(['season','episode','episode_name','n_words','air_date','id','main_chars',\n",
    "                                    'char_list','main_chars_list'],axis=1)\n",
    "\n",
    "# model matrix and response vector\n",
    "X = full_dummies_2.drop('imdb_rating',axis=1) # Independet variables\n",
    "y = full_dummies_2['imdb_rating'] # dependent variable\n",
    "\n",
    "from sklearn.model_selection import train_test_split\n",
    "X_train, X_test, y_train, y_test = train_test_split(X,y,test_size=0.3,random_state=23)\n",
    "\n",
    "X_train.columns"
   ]
  },
  {
   "cell_type": "markdown",
   "metadata": {
    "id": "Ad7J-Yw67Fo3"
   },
   "source": [
    "## 3. Model Fitting and Tuning"
   ]
  },
  {
   "cell_type": "markdown",
   "metadata": {},
   "source": [
    "### 3.1\tModel rejected"
   ]
  },
  {
   "cell_type": "markdown",
   "metadata": {},
   "source": [
    "For this project, we first have tried standard multiple linear regression. However, it turned out that the model fitted  had $\\beta$s that ranged from the smallest at -0.135 to the largest at 8.486 which is about a 80x difference in magnitude. Hence, we further explore the use of the Ridge and Lasso regression models which both penalize larger values of $\\beta$s. In our case, we will stick on Ridge Regressions, a generation of linear regression model, introducing a regularisation parameter $\\alpha$ which controls the relative impact of shrinkage penalty on the regression weights estimates.  "
   ]
  },
  {
   "cell_type": "markdown",
   "metadata": {},
   "source": [
    "### 3.2\tRidge Regression"
   ]
  },
  {
   "cell_type": "markdown",
   "metadata": {},
   "source": [
    "Ridge regression is a natural extension to linear regression which introduces an $\\ell_2$ penalty on the coefficients to a standard least squares problem. Mathematically, we can express this as the following optimization problem,\n",
    "\n",
    "$$ \\underset{\\boldsymbol{\\beta}}{\\text{argmin}} \\; \\lVert \\boldsymbol{y} - \\boldsymbol{X} \\boldsymbol{\\beta} \\rVert^2_2 + \\alpha (\\boldsymbol{\\beta}^T\\boldsymbol{\\beta}) $$ \n",
    "\n",
    "The `Ridge` model is provided by the `linear_model` submodule and requires a single parameter `alpha` which determines the tuning parameter that adjusts the weight of the $\\ell_2$ penalty.  \n",
    "For this project, we will fit a Ridge Regression model with $\\alpha$ equal to 10 first. To determine the model fit, we will consider the root mean square error (RMSE), which is a meansure of the models accuracy. Lower RMSE indicates better fit. Before we start, we import all the packages we need as well as two helper functions we have used in workshops."
   ]
  },
  {
   "cell_type": "code",
   "execution_count": 33,
   "metadata": {
    "id": "OECSxZBRf-Ur"
   },
   "outputs": [],
   "source": [
    "# Import packages we are going to use.\n",
    "import sklearn\n",
    "from sklearn.linear_model import LinearRegression\n",
    "from sklearn.linear_model import Ridge\n",
    "from sklearn.preprocessing import StandardScaler\n",
    "from sklearn.metrics import mean_squared_error\n",
    "from sklearn.pipeline import make_pipeline\n",
    "from sklearn.model_selection import GridSearchCV, KFold"
   ]
  },
  {
   "cell_type": "code",
   "execution_count": 34,
   "metadata": {
    "id": "tixNFuskNOgq"
   },
   "outputs": [],
   "source": [
    "# Sources: workshop 5 - Helper functions.\n",
    "\n",
    "# Function to get coefficients of model fitted.\n",
    "def get_coefs(m):\n",
    "    \"\"\"Returns the model coefficients from a Scikit-learn model object as an array,\n",
    "    includes the intercept if available.\n",
    "    \"\"\"\n",
    "    \n",
    "    # If pipeline, use the last step as the model\n",
    "    if (isinstance(m, sklearn.pipeline.Pipeline)):\n",
    "        m = m.steps[-1][1]\n",
    "    \n",
    "    if m.intercept_ is None:\n",
    "        return m.coef_\n",
    "    \n",
    "    return np.concatenate([[m.intercept_], m.coef_])\n",
    "\n",
    "# Function to evaluate the model fit.\n",
    "def model_fit(m, X, y, plot = False):\n",
    "    \"\"\"Returns the root mean squared error of a fitted model based on provided X and y values.\n",
    "    \n",
    "    Args:\n",
    "        m: sklearn model object\n",
    "        X: model matrix to use for prediction\n",
    "        y: outcome vector to use to calculating rmse and residuals\n",
    "        plot: boolean value, should fit plots be shown \n",
    "    \"\"\"\n",
    "    \n",
    "    y_hat = m.predict(X)\n",
    "    rmse = np.sqrt(mean_squared_error(y, y_hat))\n",
    "    \n",
    "    res = pd.DataFrame(\n",
    "        data = {'y': y, 'y_hat': y_hat, 'resid': y - y_hat}\n",
    "    )\n",
    "    \n",
    "    if plot:\n",
    "        plt.figure(figsize=(12, 6))\n",
    "        \n",
    "        plt.subplot(121)\n",
    "        sns.lineplot(x='y', y='y_hat', color=\"grey\", data =  pd.DataFrame(data={'y': [min(y),max(y)], 'y_hat': [min(y),max(y)]}))\n",
    "        sns.scatterplot(x='y', y='y_hat', data=res).set_title(\"Fit plot\")\n",
    "        \n",
    "        plt.subplot(122)\n",
    "        sns.scatterplot(x='y', y='resid', data=res).set_title(\"Residual plot\")\n",
    "        plt.hlines(y=0, xmin=np.min(y), xmax=np.max(y), linestyles='dashed', alpha=0.3, colors=\"black\")\n",
    "        \n",
    "        plt.subplots_adjust(left=0.0)\n",
    "        \n",
    "        plt.suptitle(\"Model rmse = \" + str(round(rmse, 4)), fontsize=16)\n",
    "        plt.show()\n",
    "    \n",
    "    return rmse"
   ]
  },
  {
   "cell_type": "markdown",
   "metadata": {},
   "source": [
    "Before fitting the model, let's get our model matrix prepared."
   ]
  },
  {
   "cell_type": "code",
   "execution_count": 35,
   "metadata": {},
   "outputs": [],
   "source": [
    "# Define the model matrix.\n",
    "X = np.c_[\n",
    "    X_train.iloc[:,0:4], # numerical features: 'total_votes', 'n_lines', 'n_directions', 'n_speak_char'\n",
    "    X_train.iloc[:,4:20], # 17 characters\n",
    "    X_train.iloc[:,21:35], # 15 directors\n",
    "    X_train.iloc[:,36:50]   # 15 writers\n",
    "]\n",
    "\n",
    "# Define model matrix for test data.\n",
    "X_test_matrix = np.c_[\n",
    "    X_test.iloc[:,0:4], # numerical features: 'total_votes', 'n_lines', 'n_directions', 'n_speak_char'\n",
    "    X_test.iloc[:,4:20], # 17 characters\n",
    "    X_test.iloc[:,21:35], # 15 directors\n",
    "    X_test.iloc[:,36:50]   # 15 writers\n",
    "    ]"
   ]
  },
  {
   "cell_type": "markdown",
   "metadata": {},
   "source": [
    "We can notice that the values of numerical features differ a lot in magnitude. To deal with this issue, the standard approach is to center and scale all features to a common scale before fitting one of these models. Using sklearn we can perform this transformation using the `StandardScaler` transformer from the preprocessing submodule.  "
   ]
  },
  {
   "cell_type": "code",
   "execution_count": 36,
   "metadata": {},
   "outputs": [
    {
     "name": "stdout",
     "output_type": "stream",
     "text": [
      "[ 8.48607595e+00  2.59859157e-01  7.55253895e-02  8.05375110e-02\n",
      "  2.21209930e-02  1.30223869e-02  7.14349983e-02  6.28693757e-02\n",
      " -6.80824808e-03  0.00000000e+00  7.62414431e-02  0.00000000e+00\n",
      "  4.39632884e-02 -6.04273106e-02  7.80758271e-03  1.85704785e-02\n",
      " -4.16134174e-02  0.00000000e+00 -1.17117306e-02 -5.76829418e-02\n",
      "  4.67652910e-02 -2.25939900e-03 -2.23840776e-02  1.00917028e-02\n",
      " -5.09973290e-03  2.79958033e-02  5.34367868e-02 -9.54239022e-03\n",
      " -2.34084144e-02 -4.28472463e-02 -3.26033849e-03  1.64105868e-02\n",
      " -3.04411688e-02 -5.53770847e-02  1.81307580e-02 -3.94899651e-02\n",
      "  1.59724054e-02 -1.21174385e-02 -1.03652496e-01 -1.29587886e-04\n",
      " -1.26291783e-03 -1.54494214e-02  3.06547292e-03  1.83277133e-02\n",
      "  7.80710137e-03 -1.03348823e-02  5.02224586e-02  3.21431924e-04\n",
      "  2.48469456e-02]\n"
     ]
    },
    {
     "data": {
      "image/png": "[encoded data removed]",
      "text/plain": [
       "<Figure size 864x432 with 2 Axes>"
      ]
     },
     "metadata": {
      "needs_background": "light"
     },
     "output_type": "display_data"
    },
    {
     "data": {
      "text/plain": [
       "0.32650086423024516"
      ]
     },
     "execution_count": 36,
     "metadata": {},
     "output_type": "execute_result"
    }
   ],
   "source": [
    "r = make_pipeline(\n",
    "    StandardScaler(),\n",
    "    Ridge(alpha=10)\n",
    ").fit(X, y_train)\n",
    "print(get_coefs(r))\n",
    "\n",
    "model_fit(r, X_test_matrix, y_test, plot=True)"
   ]
  },
  {
   "cell_type": "markdown",
   "metadata": {},
   "source": [
    "The model seems to provide a reasonable good fit to our data and the residual plot does not indicate any patterns. "
   ]
  },
  {
   "cell_type": "markdown",
   "metadata": {},
   "source": [
    "### 3.3\tModel refinement "
   ]
  },
  {
   "cell_type": "markdown",
   "metadata": {},
   "source": [
    "*  Tuning with GridSearchCV   \n",
    "The $\\alpha$ is a hyperparameter of the Ridge regression model and we can use cross validation to attempt to identify a good value for our data. In this study, we will use `GridSearchCV` to employ 5-fold cross validation to determine a good value $\\alpha$.  "
   ]
  },
  {
   "cell_type": "code",
   "execution_count": 37,
   "metadata": {},
   "outputs": [],
   "source": [
    "# specify a sequence of alpha values.\n",
    "alphas = np.linspace(0, 60, num=200)\n",
    "\n",
    "# Cross validation.\n",
    "gs = GridSearchCV(\n",
    "    make_pipeline(\n",
    "        StandardScaler(),\n",
    "        Ridge()\n",
    "    ),\n",
    "    param_grid={'ridge__alpha': alphas},\n",
    "    cv=KFold(5, shuffle=True, random_state=123),\n",
    "    scoring=\"neg_root_mean_squared_error\"\n",
    ").fit(X, y_train)"
   ]
  },
  {
   "cell_type": "markdown",
   "metadata": {},
   "source": [
    "To evaluate this model we can access the `best_estimator_` model object and use it to obtain an rmse for our validation data.  \n",
    "According to the result, the $\\alpha$ for the model with best fit is 25.0251256281407. Moreover, the resulted model RMSE is smaller than our base line model (i.e. $\\alpha$=10)."
   ]
  },
  {
   "cell_type": "code",
   "execution_count": 38,
   "metadata": {},
   "outputs": [
    {
     "name": "stdout",
     "output_type": "stream",
     "text": [
      "{'ridge__alpha': 25.0251256281407}\n"
     ]
    },
    {
     "data": {
      "image/png": "[encoded data removed]",
      "text/plain": [
       "<Figure size 864x432 with 2 Axes>"
      ]
     },
     "metadata": {
      "needs_background": "light"
     },
     "output_type": "display_data"
    },
    {
     "data": {
      "text/plain": [
       "0.32455312508555517"
      ]
     },
     "execution_count": 38,
     "metadata": {},
     "output_type": "execute_result"
    }
   ],
   "source": [
    "print(gs.best_params_)\n",
    "model_fit(gs.best_estimator_, X_test_matrix, y_test, plot=True)"
   ]
  },
  {
   "cell_type": "code",
   "execution_count": 44,
   "metadata": {},
   "outputs": [
    {
     "data": {
      "text/html": [
       "<div>\n",
       "<style scoped>\n",
       "    .dataframe tbody tr th:only-of-type {\n",
       "        vertical-align: middle;\n",
       "    }\n",
       "\n",
       "    .dataframe tbody tr th {\n",
       "        vertical-align: top;\n",
       "    }\n",
       "\n",
       "    .dataframe thead th {\n",
       "        text-align: right;\n",
       "    }\n",
       "</style>\n",
       "<table border=\"1\" class=\"dataframe\">\n",
       "  <thead>\n",
       "    <tr style=\"text-align: right;\">\n",
       "      <th></th>\n",
       "      <th>Variables</th>\n",
       "      <th>Coefficients</th>\n",
       "    </tr>\n",
       "  </thead>\n",
       "  <tbody>\n",
       "    <tr>\n",
       "      <th>0</th>\n",
       "      <td>intercept</td>\n",
       "      <td>8.486076</td>\n",
       "    </tr>\n",
       "    <tr>\n",
       "      <th>1</th>\n",
       "      <td>total_votes</td>\n",
       "      <td>0.194513</td>\n",
       "    </tr>\n",
       "    <tr>\n",
       "      <th>3</th>\n",
       "      <td>n_directions</td>\n",
       "      <td>0.084741</td>\n",
       "    </tr>\n",
       "    <tr>\n",
       "      <th>2</th>\n",
       "      <td>n_lines</td>\n",
       "      <td>0.070002</td>\n",
       "    </tr>\n",
       "    <tr>\n",
       "      <th>7</th>\n",
       "      <td>Creed</td>\n",
       "      <td>0.062940</td>\n",
       "    </tr>\n",
       "    <tr>\n",
       "      <th>28</th>\n",
       "      <td>director_Jeffrey Blitz</td>\n",
       "      <td>0.049180</td>\n",
       "    </tr>\n",
       "    <tr>\n",
       "      <th>8</th>\n",
       "      <td>Darryl</td>\n",
       "      <td>0.046236</td>\n",
       "    </tr>\n",
       "    <tr>\n",
       "      <th>49</th>\n",
       "      <td>writer_Mindy Kaling</td>\n",
       "      <td>0.039156</td>\n",
       "    </tr>\n",
       "    <tr>\n",
       "      <th>21</th>\n",
       "      <td>Toby</td>\n",
       "      <td>0.036160</td>\n",
       "    </tr>\n",
       "    <tr>\n",
       "      <th>4</th>\n",
       "      <td>n_speak_char</td>\n",
       "      <td>0.034326</td>\n",
       "    </tr>\n",
       "    <tr>\n",
       "      <th>11</th>\n",
       "      <td>Jim</td>\n",
       "      <td>0.032047</td>\n",
       "    </tr>\n",
       "    <tr>\n",
       "      <th>13</th>\n",
       "      <td>Kevin</td>\n",
       "      <td>0.026496</td>\n",
       "    </tr>\n",
       "    <tr>\n",
       "      <th>51</th>\n",
       "      <td>writer_Warren Lieberstein</td>\n",
       "      <td>0.026291</td>\n",
       "    </tr>\n",
       "    <tr>\n",
       "      <th>16</th>\n",
       "      <td>Oscar</td>\n",
       "      <td>0.026058</td>\n",
       "    </tr>\n",
       "    <tr>\n",
       "      <th>27</th>\n",
       "      <td>director_Harold Ramis</td>\n",
       "      <td>0.021813</td>\n",
       "    </tr>\n",
       "    <tr>\n",
       "      <th>33</th>\n",
       "      <td>director_Paul Lieberstein</td>\n",
       "      <td>0.019720</td>\n",
       "    </tr>\n",
       "    <tr>\n",
       "      <th>39</th>\n",
       "      <td>writer_Brent Forrester</td>\n",
       "      <td>0.015411</td>\n",
       "    </tr>\n",
       "    <tr>\n",
       "      <th>46</th>\n",
       "      <td>writer_Justin Spitzer</td>\n",
       "      <td>0.013602</td>\n",
       "    </tr>\n",
       "    <tr>\n",
       "      <th>6</th>\n",
       "      <td>Andy</td>\n",
       "      <td>0.012791</td>\n",
       "    </tr>\n",
       "    <tr>\n",
       "      <th>36</th>\n",
       "      <td>director_Tucker Gates</td>\n",
       "      <td>0.009203</td>\n",
       "    </tr>\n",
       "    <tr>\n",
       "      <th>25</th>\n",
       "      <td>director_David Rogers</td>\n",
       "      <td>0.006028</td>\n",
       "    </tr>\n",
       "    <tr>\n",
       "      <th>47</th>\n",
       "      <td>writer_Lee Eisenberg</td>\n",
       "      <td>0.004901</td>\n",
       "    </tr>\n",
       "    <tr>\n",
       "      <th>15</th>\n",
       "      <td>Michael</td>\n",
       "      <td>0.003967</td>\n",
       "    </tr>\n",
       "  </tbody>\n",
       "</table>\n",
       "</div>"
      ],
      "text/plain": [
       "                    Variables  Coefficients\n",
       "0                   intercept      8.486076\n",
       "1                 total_votes      0.194513\n",
       "3                n_directions      0.084741\n",
       "2                     n_lines      0.070002\n",
       "7                       Creed      0.062940\n",
       "28     director_Jeffrey Blitz      0.049180\n",
       "8                      Darryl      0.046236\n",
       "49        writer_Mindy Kaling      0.039156\n",
       "21                       Toby      0.036160\n",
       "4                n_speak_char      0.034326\n",
       "11                        Jim      0.032047\n",
       "13                      Kevin      0.026496\n",
       "51  writer_Warren Lieberstein      0.026291\n",
       "16                      Oscar      0.026058\n",
       "27      director_Harold Ramis      0.021813\n",
       "33  director_Paul Lieberstein      0.019720\n",
       "39     writer_Brent Forrester      0.015411\n",
       "46      writer_Justin Spitzer      0.013602\n",
       "6                        Andy      0.012791\n",
       "36      director_Tucker Gates      0.009203\n",
       "25      director_David Rogers      0.006028\n",
       "47       writer_Lee Eisenberg      0.004901\n",
       "15                    Michael      0.003967"
      ]
     },
     "execution_count": 44,
     "metadata": {},
     "output_type": "execute_result"
    }
   ],
   "source": [
    "r_best = gs.best_estimator_\n",
    "# estimated parameters produced by the model.\n",
    "param = get_coefs(r_best)\n",
    "# parameters for all features.\n",
    "full_param = np.insert(param,[5,21,35],0)\n",
    "# including the 'intercept' term.\n",
    "full_var = np.insert(np.array(X_train.columns),0,'intercept')\n",
    "# create a dataframe containing each feature and corresponding coefficients.\n",
    "res_param = {'Variables':full_var, 'Coefficients':full_param}\n",
    "res = pd.DataFrame(res_param)\n",
    "# Top 10 features with its coefficients.\n",
    "res.sort_values(by='Coefficients',ascending=False).head(23)"
   ]
  },
  {
   "cell_type": "markdown",
   "metadata": {},
   "source": [
    "* From the results above, we observed that the intercept of the model is 8.486076, but all the coefficients for features is below 0.2. Specifically, the coefficient for `total_votes` is relative big (0.194513) compared with other coefficients, showing that when `total_votes` increase 1, the ratings would increase 0.194513. The reson for this might be that the high-quality episode usually attract more people to vote. Based on the reason, it is meaningless for us to take total votes into account since the total votes is more likely a manifestation of high ratings rather than a reason for it.\n",
    "\n",
    "\n",
    "* As for the coefficients for the other variables (exclude the `total_votes` here), all of them are below 0.1, which are really slow. This indicates that the effect of the single factor is very small, and they combine to have an impact on audience rating. \n",
    "\n",
    "\n",
    "* The coefficients for all 3 numerical feature (exclude the `total_votes` here) in the model are positive, showing that as we increase the number of directions, the number of lines, and the number of speak characters, we would increase the audience rating.\n",
    "\n",
    "\n",
    "* As for the categorical feature, if their coefficients are positive, their presenses will have a positive effect on the rating. However, if their coefficients are negative,their presenses will have a negative effect on the rating. According to the values of coefficients for directors, the director **Jeffrey Blitz**(0.049180) has a more positive effect on ratings than the director(`director_Harold Ramis` with 0.021813) behind him, so we should invite the director **Jeffrey Blitz** to direct the reunion, As for the writers, the writer **Mindy Kaling**(coefficient: 0.039156) and writer **Warren Lieberstein**(coefficient: 0.026291) both have positive effect on ratings, so we can choose one or both of them to be the writers for the reunion.\n",
    "\n",
    "\n",
    "* According to the official information of **The Office**, the main characters are Michael Scott, Dwight Schrute, Jim Halpert, Pam Beesly, and Ryan Howard. After we output the top 25 features of importance, we can find **Creed, Darryl, Toby, Jim, Kevin, Oscar, Andy**, and **Michael** are the actors selected by the model. Comapring them with the main characters, only **Jim** and **Michael** are in the main chracters group. But from this we can not weaken the role of the main characters, since we can clearly see that after Michael, one of the character, left, the audience rating decrease to the lowest. Analysing the results about the occurance frequency of characters in episode, we find that all main characters show a really high occurance in episodes. Since there are not enough data for their absense in episodes, their low coeficients do not mean that they are less important. Therefore, for characters who should be invited to the reunion, we should keep all the main characters. If we consider inviting more characters, we should prioritize **Creed, Darryl, Toby, Kevin, Oscar** and **Andy**."
   ]
  },
  {
   "cell_type": "markdown",
   "metadata": {
    "id": "edQVULLU7Fo3"
   },
   "source": [
    "## 4. Discussion & Conclusions\n"
   ]
  },
  {
   "cell_type": "markdown",
   "metadata": {},
   "source": [
    "#### Overview of the final model.  \n",
    "Overall, the scale of estimated coefficients are quite small and differences between them are not significant, except for the intercept. The RMSE of the finel Ridge regression model in part 3 is quite small, suggesting that the model is good at predicting unoberved data.\n",
    "As for features, we notice that the `total_votes` is the feature with the highest coefficient. Indeed, people tend to draw more attention to popular episodes and therefore are more likely to vote for them. However, people may care less about the episodes with lower ratings and thus fewer people will submit their votes. Furthermore, we find that the number of lines containing a stage direction, the number of the spoken lines in episode, and the number of speaking characters are positively related to the ratings. Besides, good directors and writers are also essential for highly-rated episodes. According to our fitted model, director **Jeffrey Blitz** stands out of other 14 directors and seems to produce episodes with higher ratings"
   ]
  },
  {
   "cell_type": "markdown",
   "metadata": {},
   "source": [
    "#### Key features of episodes with high popularity.  \n",
    "We can see from above that key features of episodes with high popularity are that they tend to be with large `n_directions` (number of lines containing a stage direction), large `n_lines` (number of spoken lines in episode) and large `n_speak_char`(number of speaking characters), as well as good `directors` and  `writers`. We have also evaluated the 10 variables with the least coeffients and figured out that the majority of them are directors. In some ways, it indicates that the director may take the main responsible for the poor ratings of some low-rated episodes. Additionally, some people believe that the huge dip during season 8 was a record low and it might be due to the fact that **Michael** (Steve Carell) who was one of the main characters left the show after 7th season."
   ]
  },
  {
   "cell_type": "markdown",
   "metadata": {},
   "source": [
    "#### Concrete recommendations on the reunion episode.  \n",
    "After the analysis of parameters for the final model, we can now give advice on how to produce the highest rated reunion episode possible. Firstly, we suggest increase the number of spoken lines and the number of lines containing a stage direction as much as possible. Not only because the model suggests, but also because by doing this, we can make a tighter plot and a stronger sense of immersion for the audience. That's may be a reason why episodes with higher `n_directions` and `n_lines` lead to higher ratings. Secondly, good writers and directers are also essential for a popular episode. According to our result, we may suggest to invite **Jeffrey Blitz** as the main director, **Harold Ramis** or **Paul Lieberstein** as associate directors to produce this reunion episode. As for writers, we may prefer **Mindy Kaling** or **Warren Lieberstein**. Last but not least, characters. From the audiance's perspective, the best reunion episode should be the one that gathers all the main actors of the whole season and as well as the main supporting characters. Hence, our suggestion is to invite more characters as much as possible."
   ]
  }
 ],
 "metadata": {
  "colab": {
   "collapsed_sections": [],
   "name": "project1 group.ipynb",
   "provenance": []
  },
  "kernelspec": {
   "display_name": "Python 3 (ipykernel)",
   "language": "python",
   "name": "python3"
  },
  "language_info": {
   "codemirror_mode": {
    "name": "ipython",
    "version": 3
   },
   "file_extension": ".py",
   "mimetype": "text/x-python",
   "name": "python",
   "nbconvert_exporter": "python",
   "pygments_lexer": "ipython3",
   "version": "3.7.11"
  }
 },
 "nbformat": 4,
 "nbformat_minor": 1
}
